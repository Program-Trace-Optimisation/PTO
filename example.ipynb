{
  "nbformat": 4,
  "nbformat_minor": 0,
  "metadata": {
    "colab": {
      "provenance": []
    },
    "kernelspec": {
      "name": "python3",
      "display_name": "Python 3"
    },
    "language_info": {
      "name": "python"
    }
  },
  "cells": [
    {
      "cell_type": "code",
      "execution_count": null,
      "metadata": {
        "colab": {
          "base_uri": "https://localhost:8080/"
        },
        "id": "Gg-T43ycBgrR",
        "outputId": "bbe06a08-fb43-447d-b3b4-b6612f5c5d21"
      },
      "outputs": [
        {
          "output_type": "stream",
          "name": "stdout",
          "text": [
            "Collecting git+https://github.com/Program-Trace-Optimisation/PTO.git\n",
            "  Cloning https://github.com/Program-Trace-Optimisation/PTO.git to /tmp/pip-req-build-8wrpbjq_\n",
            "  Running command git clone --filter=blob:none --quiet https://github.com/Program-Trace-Optimisation/PTO.git /tmp/pip-req-build-8wrpbjq_\n",
            "  Resolved https://github.com/Program-Trace-Optimisation/PTO.git to commit 1af3d9b9b5e959097b4e25e30f7456d198828f3e\n",
            "  Installing build dependencies ... \u001b[?25l\u001b[?25hdone\n",
            "  Getting requirements to build wheel ... \u001b[?25l\u001b[?25hdone\n",
            "  Preparing metadata (pyproject.toml) ... \u001b[?25l\u001b[?25hdone\n",
            "Building wheels for collected packages: PTO\n",
            "  Building wheel for PTO (pyproject.toml) ... \u001b[?25l\u001b[?25hdone\n",
            "  Created wheel for PTO: filename=PTO-0.2-py3-none-any.whl size=41977 sha256=0c69ff120b4ff9d2d8996025c21197b6532ab45727ad8bd2545b005d38884458\n",
            "  Stored in directory: /tmp/pip-ephem-wheel-cache-qwmtzr9h/wheels/74/3b/ee/b5155565537b40b1fe006b4f1cfceee897a0178577240a7caa\n",
            "Successfully built PTO\n",
            "Installing collected packages: PTO\n",
            "Successfully installed PTO-0.2\n"
          ]
        }
      ],
      "source": [
        "pip install git+https://github.com/Program-Trace-Optimisation/PTO.git"
      ]
    },
    {
      "cell_type": "code",
      "source": [
        "from pto import rnd, run"
      ],
      "metadata": {
        "id": "BfjS8CSlFXls"
      },
      "execution_count": null,
      "outputs": []
    },
    {
      "cell_type": "code",
      "source": [
        "from pto import run, rnd\n",
        "def generator(): return [rnd.choice([0, 1]) for i in range(10)]\n",
        "(pheno, geno), fx = run(generator, sum, better=max)"
      ],
      "metadata": {
        "id": "DEbQ7X4zFfvf"
      },
      "execution_count": null,
      "outputs": []
    },
    {
      "cell_type": "code",
      "source": [
        "(pheno, geno), fx"
      ],
      "metadata": {
        "id": "u3-t2NIyFuTw",
        "outputId": "ff533f54-fdb3-4f70-b7e0-26ea92ae534e",
        "colab": {
          "base_uri": "https://localhost:8080/"
        }
      },
      "execution_count": null,
      "outputs": [
        {
          "output_type": "execute_result",
          "data": {
            "text/plain": [
              "(([1, 1, 1, 1, 1, 1, 1, 1, 1, 1],\n",
              "  {'root/iter@(1,4):0/choice@(1,18)': Random_cat_repair(choice, ([0, 1],), val=1),\n",
              "   'root/iter@(1,4):1/choice@(1,18)': Random_cat_repair(choice, ([0, 1],), val=1),\n",
              "   'root/iter@(1,4):2/choice@(1,18)': Random_cat_repair(choice, ([0, 1],), val=1),\n",
              "   'root/iter@(1,4):3/choice@(1,18)': Random_cat_repair(choice, ([0, 1],), val=1),\n",
              "   'root/iter@(1,4):4/choice@(1,18)': Random_cat_repair(choice, ([0, 1],), val=1),\n",
              "   'root/iter@(1,4):5/choice@(1,18)': Random_cat_repair(choice, ([0, 1],), val=1),\n",
              "   'root/iter@(1,4):6/choice@(1,18)': Random_cat_repair(choice, ([0, 1],), val=1),\n",
              "   'root/iter@(1,4):7/choice@(1,18)': Random_cat_repair(choice, ([0, 1],), val=1),\n",
              "   'root/iter@(1,4):8/choice@(1,18)': Random_cat_repair(choice, ([0, 1],), val=1),\n",
              "   'root/iter@(1,4):9/choice@(1,18)': Random_cat_repair(choice, ([0, 1],), val=1)}),\n",
              " 10)"
            ]
          },
          "metadata": {},
          "execution_count": 5
        }
      ]
    }
  ]
}