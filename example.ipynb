{
  "cells": [
    {
      "cell_type": "code",
      "execution_count": null,
      "metadata": {
        "colab": {
          "base_uri": "https://localhost:8080/"
        },
        "id": "Gg-T43ycBgrR",
        "outputId": "bbe06a08-fb43-447d-b3b4-b6612f5c5d21"
      },
      "outputs": [],
      "source": [
        "pip install git+https://github.com/Program-Trace-Optimisation/PTO.git"
      ]
    },
    {
      "cell_type": "code",
      "execution_count": null,
      "metadata": {
        "id": "BfjS8CSlFXls"
      },
      "outputs": [],
      "source": [
        "from pto import rnd, run"
      ]
    },
    {
      "cell_type": "code",
      "execution_count": null,
      "metadata": {
        "id": "DEbQ7X4zFfvf"
      },
      "outputs": [],
      "source": [
        "from pto import run, rnd\n",
        "def generator(): return [rnd.choice([0, 1]) for i in range(10)]\n",
        "(pheno, geno), fx = run(generator, sum, better=max)"
      ]
    },
    {
      "cell_type": "code",
      "execution_count": null,
      "metadata": {
        "colab": {
          "base_uri": "https://localhost:8080/"
        },
        "id": "u3-t2NIyFuTw",
        "outputId": "ff533f54-fdb3-4f70-b7e0-26ea92ae534e"
      },
      "outputs": [],
      "source": [
        "(pheno, geno), fx"
      ]
    }
  ],
  "metadata": {
    "colab": {
      "provenance": []
    },
    "kernelspec": {
      "display_name": "Python 3",
      "name": "python3"
    },
    "language_info": {
      "name": "python"
    }
  },
  "nbformat": 4,
  "nbformat_minor": 0
}
