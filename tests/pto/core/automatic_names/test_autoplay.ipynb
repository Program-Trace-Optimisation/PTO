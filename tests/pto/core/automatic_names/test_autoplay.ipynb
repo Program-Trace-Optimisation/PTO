{
 "cells": [
  {
   "cell_type": "markdown",
   "id": "25add310",
   "metadata": {},
   "source": [
    "# Tests for automatic names play"
   ]
  },
  {
   "cell_type": "code",
   "execution_count": 2,
   "id": "9b1e4a43",
   "metadata": {},
   "outputs": [],
   "source": [
    "from pto.core.automatic_names import func_name, rnd, tracer\n",
    "\n",
    "play = tracer.play # this has been overridden by autoplay\n",
    "\n"
   ]
  },
  {
   "cell_type": "code",
   "execution_count": 3,
   "id": "d7a64835-8e1d-4bd0-adea-25a11d02cd58",
   "metadata": {},
   "outputs": [
    {
     "data": {
      "text/plain": [
       "<bound method AutoPlayTracer.play of <pto.core.automatic_names.autoplay.AutoPlayTracer object at 0x106a02d90>>"
      ]
     },
     "execution_count": 3,
     "metadata": {},
     "output_type": "execute_result"
    }
   ],
   "source": [
    "tracer.play"
   ]
  },
  {
   "cell_type": "code",
   "execution_count": 6,
   "id": "2478e360-a54a-4dbc-b015-8d8ab27a5859",
   "metadata": {},
   "outputs": [
    {
     "data": {
      "text/plain": [
       "<bound method Tracer.play of <pto.core.base.tracer.Tracer object at 0x106a03b50>>"
      ]
     },
     "execution_count": 6,
     "metadata": {},
     "output_type": "execute_result"
    }
   ],
   "source": [
    "from pto.core.base import tracer\n",
    "tracer.play"
   ]
  },
  {
   "cell_type": "code",
   "execution_count": 7,
   "id": "2f47f365-64f8-4d8a-bbad-6d2e2f12b7dc",
   "metadata": {},
   "outputs": [],
   "source": [
    "from pto.core.automatic_names import Name\n",
    "Name.stack=[0]"
   ]
  },
  {
   "cell_type": "code",
   "execution_count": 6,
   "id": "cba29dae-737e-4e17-94c9-c3e7503c70b8",
   "metadata": {},
   "outputs": [
    {
     "data": {
      "text/plain": [
       "[0]"
      ]
     },
     "execution_count": 6,
     "metadata": {},
     "output_type": "execute_result"
    }
   ],
   "source": [
    "Name.stack"
   ]
  },
  {
   "cell_type": "code",
   "execution_count": 7,
   "id": "903a84af-4130-4104-ba21-50c611ac0bee",
   "metadata": {},
   "outputs": [
    {
     "data": {
      "text/plain": [
       "[0]"
      ]
     },
     "execution_count": 7,
     "metadata": {},
     "output_type": "execute_result"
    }
   ],
   "source": [
    "import pto.automatic_name.name_annotators\n",
    "pto.automatic_name.name_annotators.Name.stack"
   ]
  },
  {
   "cell_type": "code",
   "execution_count": 8,
   "id": "9745800b",
   "metadata": {},
   "outputs": [],
   "source": [
    "##### SYMBOLIC REGRESSION with alternative generator and automatic names\n",
    "\n",
    "# When name is not explicitly specified for an elementary random generator, it is determined automatically\n",
    "\n",
    "func_set = [('and', 2), ('or', 2), ('not', 1)] # functions set\n",
    "term_set = [('x1',0), ('x2',0), ('x3',0)] # terminals set\n",
    "\n",
    "# Growth Initialisation\n",
    "def generator(): \n",
    "\n",
    "  @func_name\n",
    "  def rnd_expr():\n",
    "    node, arity = rnd.choice(term_set+func_set)\n",
    "    if arity == 0:\n",
    "        expr = node\n",
    "    elif arity == 1:\n",
    "        expr = '(%s %s)' % (node, rnd_expr())\n",
    "    else: # arity = 2\n",
    "        expr = '(%s %s %s)' % (rnd_expr(), node, rnd_expr())\n",
    "    return expr\n",
    "\n",
    "  return rnd_expr()"
   ]
  },
  {
   "cell_type": "code",
   "execution_count": 9,
   "id": "6e2428d0",
   "metadata": {},
   "outputs": [
    {
     "data": {
      "text/plain": [
       "('repair', 'lin')"
      ]
     },
     "execution_count": 9,
     "metadata": {},
     "output_type": "execute_result"
    }
   ],
   "source": [
    "\n",
    "rnd.CONFIG(name_type='lin')"
   ]
  },
  {
   "cell_type": "code",
   "execution_count": 10,
   "id": "0360e066",
   "metadata": {},
   "outputs": [
    {
     "name": "stdout",
     "output_type": "stream",
     "text": [
      "0\n",
      "1\n",
      "2\n",
      "3\n",
      "4\n",
      "5\n",
      "6\n",
      "7\n",
      "8\n",
      "9\n",
      "10\n",
      "11\n",
      "12\n",
      "((x3 and (x3 or (x1 or (not (x2 and x1))))) and (not x3))\n"
     ]
    },
    {
     "data": {
      "text/plain": [
       "{'0': Random_cat_repair(choice, ([('x1', 0), ('x2', 0), ('x3', 0), ('and', 2), ('or', 2), ('not', 1)],),  val=('and', 2)),\n",
       " '1': Random_cat_repair(choice, ([('x1', 0), ('x2', 0), ('x3', 0), ('and', 2), ('or', 2), ('not', 1)],),  val=('and', 2)),\n",
       " '2': Random_cat_repair(choice, ([('x1', 0), ('x2', 0), ('x3', 0), ('and', 2), ('or', 2), ('not', 1)],),  val=('x3', 0)),\n",
       " '3': Random_cat_repair(choice, ([('x1', 0), ('x2', 0), ('x3', 0), ('and', 2), ('or', 2), ('not', 1)],),  val=('or', 2)),\n",
       " '4': Random_cat_repair(choice, ([('x1', 0), ('x2', 0), ('x3', 0), ('and', 2), ('or', 2), ('not', 1)],),  val=('x3', 0)),\n",
       " '5': Random_cat_repair(choice, ([('x1', 0), ('x2', 0), ('x3', 0), ('and', 2), ('or', 2), ('not', 1)],),  val=('or', 2)),\n",
       " '6': Random_cat_repair(choice, ([('x1', 0), ('x2', 0), ('x3', 0), ('and', 2), ('or', 2), ('not', 1)],),  val=('x1', 0)),\n",
       " '7': Random_cat_repair(choice, ([('x1', 0), ('x2', 0), ('x3', 0), ('and', 2), ('or', 2), ('not', 1)],),  val=('not', 1)),\n",
       " '8': Random_cat_repair(choice, ([('x1', 0), ('x2', 0), ('x3', 0), ('and', 2), ('or', 2), ('not', 1)],),  val=('and', 2)),\n",
       " '9': Random_cat_repair(choice, ([('x1', 0), ('x2', 0), ('x3', 0), ('and', 2), ('or', 2), ('not', 1)],),  val=('x2', 0)),\n",
       " '10': Random_cat_repair(choice, ([('x1', 0), ('x2', 0), ('x3', 0), ('and', 2), ('or', 2), ('not', 1)],),  val=('x1', 0)),\n",
       " '11': Random_cat_repair(choice, ([('x1', 0), ('x2', 0), ('x3', 0), ('and', 2), ('or', 2), ('not', 1)],),  val=('not', 1)),\n",
       " '12': Random_cat_repair(choice, ([('x1', 0), ('x2', 0), ('x3', 0), ('and', 2), ('or', 2), ('not', 1)],),  val=('x3', 0))}"
      ]
     },
     "metadata": {},
     "output_type": "display_data"
    }
   ],
   "source": [
    "# Test generator\n",
    " \n",
    "trace = {}\n",
    "sol = play(generator, trace)\n",
    "\n",
    "print(sol)\n",
    "\n",
    "display(trace)"
   ]
  },
  {
   "cell_type": "code",
   "execution_count": 11,
   "id": "b2c2fea9-2636-48b8-ab30-bab1984692bb",
   "metadata": {},
   "outputs": [
    {
     "data": {
      "text/plain": [
       "[]"
      ]
     },
     "execution_count": 11,
     "metadata": {},
     "output_type": "execute_result"
    }
   ],
   "source": [
    "Name.stack"
   ]
  },
  {
   "cell_type": "code",
   "execution_count": 12,
   "id": "2b9bdbf8",
   "metadata": {},
   "outputs": [
    {
     "name": "stdout",
     "output_type": "stream",
     "text": [
      "0\n",
      "x1\n"
     ]
    },
    {
     "data": {
      "text/plain": [
       "{'0': Random_cat_repair(choice, ([('x1', 0), ('x2', 0), ('x3', 0), ('and', 2), ('or', 2), ('not', 1)],),  val=('x1', 0))}"
      ]
     },
     "metadata": {},
     "output_type": "display_data"
    }
   ],
   "source": [
    "# Test generator\n",
    " \n",
    "trace = {}\n",
    "sol = play(generator, trace)\n",
    "\n",
    "print(sol)\n",
    "\n",
    "display(trace)"
   ]
  },
  {
   "cell_type": "code",
   "execution_count": 13,
   "id": "1b2e27db",
   "metadata": {},
   "outputs": [
    {
     "data": {
      "text/plain": [
       "('repair', 'str')"
      ]
     },
     "execution_count": 13,
     "metadata": {},
     "output_type": "execute_result"
    }
   ],
   "source": [
    "rnd.CONFIG(name_type='str')"
   ]
  },
  {
   "cell_type": "code",
   "execution_count": 14,
   "id": "12fe1825",
   "metadata": {},
   "outputs": [
    {
     "name": "stdout",
     "output_type": "stream",
     "text": [
      "root/choice@(13,78)\n",
      "x2\n"
     ]
    },
    {
     "data": {
      "text/plain": [
       "{'root/choice@(13,78)': Random_cat_repair(choice, ([('x1', 0), ('x2', 0), ('x3', 0), ('and', 2), ('or', 2), ('not', 1)],),  val=('x2', 0))}"
      ]
     },
     "metadata": {},
     "output_type": "display_data"
    }
   ],
   "source": [
    "# Test generator\n",
    " \n",
    "trace = {}\n",
    "sol = tracer.play(generator, trace)\n",
    "\n",
    "print(sol)\n",
    "\n",
    "display(trace)"
   ]
  },
  {
   "cell_type": "code",
   "execution_count": 15,
   "id": "c645697b",
   "metadata": {},
   "outputs": [
    {
     "data": {
      "text/plain": [
       "<bound method AutoPlayTracer.play of <pto.automatic_name.name_autoplay.AutoPlayTracer object at 0x000001C450170B10>>"
      ]
     },
     "execution_count": 15,
     "metadata": {},
     "output_type": "execute_result"
    }
   ],
   "source": [
    "tracer.play"
   ]
  }
 ],
 "metadata": {
  "kernelspec": {
   "display_name": "Python 3 (ipykernel)",
   "language": "python",
   "name": "python3"
  },
  "language_info": {
   "codemirror_mode": {
    "name": "ipython",
    "version": 3
   },
   "file_extension": ".py",
   "mimetype": "text/x-python",
   "name": "python",
   "nbconvert_exporter": "python",
   "pygments_lexer": "ipython3",
   "version": "3.11.7"
  }
 },
 "nbformat": 4,
 "nbformat_minor": 5
}
