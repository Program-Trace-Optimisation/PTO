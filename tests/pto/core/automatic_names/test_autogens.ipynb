{
 "cells": [
  {
   "cell_type": "markdown",
   "id": "d84cf42c",
   "metadata": {},
   "source": [
    "# Tests for autoname generators"
   ]
  },
  {
   "cell_type": "code",
   "execution_count": 12,
   "id": "b5e5c0f6",
   "metadata": {},
   "outputs": [],
   "source": [
    "from pto.core.automatic_names import rnd"
   ]
  },
  {
   "cell_type": "code",
   "execution_count": 13,
   "id": "cce7d142",
   "metadata": {},
   "outputs": [
    {
     "name": "stdout",
     "output_type": "stream",
     "text": [
      "0\n"
     ]
    },
    {
     "data": {
      "text/plain": [
       "0"
      ]
     },
     "execution_count": 13,
     "metadata": {},
     "output_type": "execute_result"
    }
   ],
   "source": [
    "rnd.choice([0,1])"
   ]
  },
  {
   "cell_type": "code",
   "execution_count": 14,
   "id": "ec57d383",
   "metadata": {},
   "outputs": [
    {
     "name": "stdout",
     "output_type": "stream",
     "text": [
      "hello\n"
     ]
    },
    {
     "data": {
      "text/plain": [
       "1"
      ]
     },
     "execution_count": 14,
     "metadata": {},
     "output_type": "execute_result"
    }
   ],
   "source": [
    "rnd.choice([0,1], name='hello')"
   ]
  },
  {
   "cell_type": "code",
   "execution_count": 15,
   "id": "305663a4",
   "metadata": {},
   "outputs": [
    {
     "name": "stdout",
     "output_type": "stream",
     "text": [
      "1\n"
     ]
    },
    {
     "data": {
      "text/plain": [
       "5"
      ]
     },
     "execution_count": 15,
     "metadata": {},
     "output_type": "execute_result"
    }
   ],
   "source": [
    "rnd.randint(1, 10)"
   ]
  },
  {
   "cell_type": "code",
   "execution_count": 16,
   "id": "f397e837",
   "metadata": {},
   "outputs": [
    {
     "name": "stdout",
     "output_type": "stream",
     "text": [
      "hello\n"
     ]
    },
    {
     "data": {
      "text/plain": [
       "5"
      ]
     },
     "execution_count": 16,
     "metadata": {},
     "output_type": "execute_result"
    }
   ],
   "source": [
    "rnd.randint(1, 10, name='hello')"
   ]
  },
  {
   "cell_type": "code",
   "execution_count": 17,
   "id": "0d137e10",
   "metadata": {},
   "outputs": [
    {
     "name": "stdout",
     "output_type": "stream",
     "text": [
      "2\n"
     ]
    },
    {
     "data": {
      "text/plain": [
       "0.14881090815470877"
      ]
     },
     "execution_count": 17,
     "metadata": {},
     "output_type": "execute_result"
    }
   ],
   "source": [
    "rnd.random()"
   ]
  },
  {
   "cell_type": "code",
   "execution_count": 18,
   "id": "4446aeb9",
   "metadata": {},
   "outputs": [
    {
     "name": "stdout",
     "output_type": "stream",
     "text": [
      "hello\n"
     ]
    },
    {
     "data": {
      "text/plain": [
       "0.9790917728879018"
      ]
     },
     "execution_count": 18,
     "metadata": {},
     "output_type": "execute_result"
    }
   ],
   "source": [
    "rnd.random(name='hello')"
   ]
  },
  {
   "cell_type": "code",
   "execution_count": 19,
   "id": "f4e9eb83",
   "metadata": {},
   "outputs": [
    {
     "data": {
      "text/plain": [
       "('repair', 'lin')"
      ]
     },
     "execution_count": 19,
     "metadata": {},
     "output_type": "execute_result"
    }
   ],
   "source": [
    "rnd.CONFIG()"
   ]
  },
  {
   "cell_type": "code",
   "execution_count": 20,
   "id": "aa6f6242",
   "metadata": {},
   "outputs": [
    {
     "data": {
      "text/plain": [
       "('repair', 'lin')"
      ]
     },
     "execution_count": 20,
     "metadata": {},
     "output_type": "execute_result"
    }
   ],
   "source": [
    "rnd.CONFIG(name_type='lin')"
   ]
  },
  {
   "cell_type": "code",
   "execution_count": 21,
   "id": "1e28af94-2d97-407a-b27e-f9029ba2c198",
   "metadata": {},
   "outputs": [
    {
     "data": {
      "text/plain": [
       "('coarse', 'lin')"
      ]
     },
     "execution_count": 21,
     "metadata": {},
     "output_type": "execute_result"
    }
   ],
   "source": [
    "from pto.core.automatic_names import AutoNamedRandomTraceable\n",
    "rnd = AutoNamedRandomTraceable(dist_type='coarse', name_type='lin')\n",
    "rnd.CONFIG()"
   ]
  },
  {
   "cell_type": "code",
   "execution_count": 22,
   "id": "9edd6088",
   "metadata": {},
   "outputs": [
    {
     "name": "stdout",
     "output_type": "stream",
     "text": [
      "3\n"
     ]
    },
    {
     "data": {
      "text/plain": [
       "1"
      ]
     },
     "execution_count": 22,
     "metadata": {},
     "output_type": "execute_result"
    }
   ],
   "source": [
    "rnd.choice([0,1])"
   ]
  },
  {
   "cell_type": "code",
   "execution_count": 23,
   "id": "aa77c5fb",
   "metadata": {},
   "outputs": [
    {
     "name": "stdout",
     "output_type": "stream",
     "text": [
      "hello\n"
     ]
    },
    {
     "data": {
      "text/plain": [
       "0"
      ]
     },
     "execution_count": 23,
     "metadata": {},
     "output_type": "execute_result"
    }
   ],
   "source": [
    "rnd.choice([0,1], name='hello')"
   ]
  },
  {
   "cell_type": "code",
   "execution_count": 24,
   "id": "111a473a",
   "metadata": {},
   "outputs": [
    {
     "name": "stdout",
     "output_type": "stream",
     "text": [
      "4\n"
     ]
    },
    {
     "data": {
      "text/plain": [
       "2"
      ]
     },
     "execution_count": 24,
     "metadata": {},
     "output_type": "execute_result"
    }
   ],
   "source": [
    "rnd.randint(1, 10)"
   ]
  },
  {
   "cell_type": "code",
   "execution_count": 25,
   "id": "03a0f933",
   "metadata": {},
   "outputs": [
    {
     "name": "stdout",
     "output_type": "stream",
     "text": [
      "hello\n"
     ]
    },
    {
     "data": {
      "text/plain": [
       "7"
      ]
     },
     "execution_count": 25,
     "metadata": {},
     "output_type": "execute_result"
    }
   ],
   "source": [
    "rnd.randint(1, 10, name='hello')"
   ]
  },
  {
   "cell_type": "code",
   "execution_count": 26,
   "id": "6b1ef401",
   "metadata": {},
   "outputs": [
    {
     "name": "stdout",
     "output_type": "stream",
     "text": [
      "5\n"
     ]
    },
    {
     "data": {
      "text/plain": [
       "0.7824231113493196"
      ]
     },
     "execution_count": 26,
     "metadata": {},
     "output_type": "execute_result"
    }
   ],
   "source": [
    "rnd.random()"
   ]
  },
  {
   "cell_type": "code",
   "execution_count": 27,
   "id": "7876178c",
   "metadata": {},
   "outputs": [
    {
     "name": "stdout",
     "output_type": "stream",
     "text": [
      "hello\n"
     ]
    },
    {
     "data": {
      "text/plain": [
       "0.08254828030303873"
      ]
     },
     "execution_count": 27,
     "metadata": {},
     "output_type": "execute_result"
    }
   ],
   "source": [
    "rnd.random(name='hello')"
   ]
  }
 ],
 "metadata": {
  "kernelspec": {
   "display_name": "Python 3 (ipykernel)",
   "language": "python",
   "name": "python3"
  },
  "language_info": {
   "codemirror_mode": {
    "name": "ipython",
    "version": 3
   },
   "file_extension": ".py",
   "mimetype": "text/x-python",
   "name": "python",
   "nbconvert_exporter": "python",
   "pygments_lexer": "ipython3",
   "version": "3.11.7"
  }
 },
 "nbformat": 4,
 "nbformat_minor": 5
}
