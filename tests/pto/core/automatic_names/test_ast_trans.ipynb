{
 "cells": [
  {
   "cell_type": "markdown",
   "id": "69c8aab3",
   "metadata": {},
   "source": [
    "# Tests for AST transformers"
   ]
  },
  {
   "cell_type": "code",
   "execution_count": 1,
   "id": "c2e3254b",
   "metadata": {},
   "outputs": [],
   "source": [
    "import ast\n",
    "from pto.core.automatic_names import transform_ast\n"
   ]
  },
  {
   "cell_type": "code",
   "execution_count": 2,
   "id": "38668b68",
   "metadata": {},
   "outputs": [],
   "source": [
    "def check_trans(source):\n",
    "    tree = ast.parse(source)\n",
    "\n",
    "    print('BEFORE:')\n",
    "    print(ast.unparse(tree))\n",
    "\n",
    "    # tansform ast\n",
    "    tree = transform_ast(tree)\n",
    "\n",
    "    print('AFTER:')\n",
    "    print(ast.unparse(tree))\n",
    "    "
   ]
  },
  {
   "cell_type": "code",
   "execution_count": 3,
   "id": "f0a89b43",
   "metadata": {},
   "outputs": [
    {
     "name": "stdout",
     "output_type": "stream",
     "text": [
      "BEFORE:\n",
      "def f():\n",
      "    print('hello')\n",
      "AFTER:\n",
      "@func_name\n",
      "def f():\n",
      "    print('hello')\n"
     ]
    }
   ],
   "source": [
    "source = '''def f(): print('hello')'''\n",
    "\n",
    "check_trans(source)"
   ]
  },
  {
   "cell_type": "code",
   "execution_count": 4,
   "id": "75b4b799",
   "metadata": {
    "scrolled": true
   },
   "outputs": [
    {
     "name": "stdout",
     "output_type": "stream",
     "text": [
      "BEFORE:\n",
      "def g():\n",
      "    [x for x in range(10)]\n",
      "AFTER:\n",
      "@func_name\n",
      "def g():\n",
      "    [x for x in iter_name(range(10))]\n"
     ]
    }
   ],
   "source": [
    "source = '''def g(): [x for x in range(10)]'''\n",
    "\n",
    "check_trans(source)"
   ]
  },
  {
   "cell_type": "code",
   "execution_count": 5,
   "id": "9237e3cb",
   "metadata": {},
   "outputs": [
    {
     "name": "stdout",
     "output_type": "stream",
     "text": [
      "BEFORE:\n",
      "def j():\n",
      "    c = 10\n",
      "    while c:\n",
      "        c -= 1\n",
      "AFTER:\n",
      "@func_name\n",
      "def j():\n",
      "    c = 10\n",
      "    with Loop_name() as count:\n",
      "        while c:\n",
      "            c -= 1\n",
      "            count()\n"
     ]
    }
   ],
   "source": [
    "source = '''def j():\\n\\tc = 10\\n\\twhile c:\\n\\t\\tc-=1'''\n",
    "\n",
    "check_trans(source)"
   ]
  },
  {
   "cell_type": "code",
   "execution_count": 6,
   "id": "c09cc773",
   "metadata": {},
   "outputs": [
    {
     "name": "stdout",
     "output_type": "stream",
     "text": [
      "BEFORE:\n",
      "def s():\n",
      "\n",
      "    def t():\n",
      "        print('hello')\n",
      "\n",
      "    def u():\n",
      "        print('world')\n",
      "AFTER:\n",
      "@func_name\n",
      "def s():\n",
      "\n",
      "    @func_name\n",
      "    def t():\n",
      "        print('hello')\n",
      "\n",
      "    @func_name\n",
      "    def u():\n",
      "        print('world')\n"
     ]
    }
   ],
   "source": [
    "source = '''def s():\\n\\tdef t():\\n\\t\\tprint('hello')\\n\\tdef u():\\n\\t\\tprint('world')'''\n",
    "\n",
    "check_trans(source)"
   ]
  },
  {
   "cell_type": "code",
   "execution_count": 7,
   "id": "da608485",
   "metadata": {},
   "outputs": [
    {
     "name": "stdout",
     "output_type": "stream",
     "text": [
      "BEFORE:\n",
      "def f(matrix):\n",
      "    return [val for sublist in matrix for val in sublist]\n",
      "AFTER:\n",
      "@func_name\n",
      "def f(matrix):\n",
      "    return [val for sublist in iter_name(matrix) for val in iter_name(sublist)]\n"
     ]
    }
   ],
   "source": [
    "source = '''def f(matrix):\\n\\treturn [val for sublist in matrix for val in sublist]'''\n",
    "\n",
    "check_trans(source)"
   ]
  },
  {
   "cell_type": "code",
   "execution_count": 8,
   "id": "d615d66d",
   "metadata": {},
   "outputs": [
    {
     "name": "stdout",
     "output_type": "stream",
     "text": [
      "BEFORE:\n",
      "def g(matrix):\n",
      "    for sublist in matrix:\n",
      "        for val in sublist:\n",
      "            flatten_matrix.append(val)\n",
      "AFTER:\n",
      "@func_name\n",
      "def g(matrix):\n",
      "    with Loop_name() as count:\n",
      "        for sublist in matrix:\n",
      "            with Loop_name() as count:\n",
      "                for val in sublist:\n",
      "                    flatten_matrix.append(val)\n",
      "                    count()\n",
      "            count()\n"
     ]
    }
   ],
   "source": [
    "source = '''def g(matrix):\\n\\tfor sublist in matrix:\\n\\t\\tfor val in sublist:\\n\\t\\t\\tflatten_matrix.append(val)'''\n",
    "\n",
    "check_trans(source)"
   ]
  },
  {
   "cell_type": "code",
   "execution_count": 9,
   "id": "0e969e9a",
   "metadata": {},
   "outputs": [
    {
     "name": "stdout",
     "output_type": "stream",
     "text": [
      "BEFORE:\n",
      "def h(matrix):\n",
      "    for sublist in matrix:\n",
      "        while val:\n",
      "            flatten_matrix.append(val)\n",
      "AFTER:\n",
      "@func_name\n",
      "def h(matrix):\n",
      "    with Loop_name() as count:\n",
      "        for sublist in matrix:\n",
      "            with Loop_name() as count:\n",
      "                while val:\n",
      "                    flatten_matrix.append(val)\n",
      "                    count()\n",
      "            count()\n"
     ]
    }
   ],
   "source": [
    "source = '''def h(matrix):\\n\\tfor sublist in matrix:\\n\\t\\twhile val:\\n\\t\\t\\tflatten_matrix.append(val)'''\n",
    "\n",
    "check_trans(source)"
   ]
  },
  {
   "cell_type": "code",
   "execution_count": 10,
   "id": "6aaf16e7",
   "metadata": {},
   "outputs": [
    {
     "name": "stdout",
     "output_type": "stream",
     "text": [
      "BEFORE:\n",
      "def j(matrix):\n",
      "    for sublist in matrix:\n",
      "        while val:\n",
      "            [x for x in range(5)]\n",
      "AFTER:\n",
      "@func_name\n",
      "def j(matrix):\n",
      "    with Loop_name() as count:\n",
      "        for sublist in matrix:\n",
      "            with Loop_name() as count:\n",
      "                while val:\n",
      "                    [x for x in iter_name(range(5))]\n",
      "                    count()\n",
      "            count()\n"
     ]
    }
   ],
   "source": [
    "source = '''def j(matrix):\\n\\tfor sublist in matrix:\\n\\t\\twhile val:\\n\\t\\t\\t[x for x in range(5)]'''\n",
    "\n",
    "check_trans(source)"
   ]
  }
 ],
 "metadata": {
  "kernelspec": {
   "display_name": "Python 3 (ipykernel)",
   "language": "python",
   "name": "python3"
  },
  "language_info": {
   "codemirror_mode": {
    "name": "ipython",
    "version": 3
   },
   "file_extension": ".py",
   "mimetype": "text/x-python",
   "name": "python",
   "nbconvert_exporter": "python",
   "pygments_lexer": "ipython3",
   "version": "3.11.7"
  }
 },
 "nbformat": 4,
 "nbformat_minor": 5
}
