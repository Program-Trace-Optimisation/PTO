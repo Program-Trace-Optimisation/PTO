{
 "cells": [
  {
   "cell_type": "markdown",
   "id": "00098409-3cdb-44e6-9209-8acf68cd28fa",
   "metadata": {},
   "source": [
    "# Tests for interface"
   ]
  },
  {
   "cell_type": "code",
   "execution_count": 1,
   "id": "19b79bb2",
   "metadata": {},
   "outputs": [],
   "source": [
    "from pto.core.automatic_names import *"
   ]
  },
  {
   "cell_type": "code",
   "execution_count": 2,
   "id": "b1cf2778",
   "metadata": {},
   "outputs": [
    {
     "data": {
      "text/plain": [
       "(pto.core.automatic_names.node.Node,\n",
       " <pto.core.automatic_names.annotators._Name at 0x106a031d0>,\n",
       " <function pto.core.automatic_names.annotators.func_name(func, args_name=True)>,\n",
       " <function pto.core.automatic_names.annotators.iter_name(iterable)>,\n",
       " pto.core.automatic_names.annotators.Loop_name,\n",
       " pto.core.automatic_names.autogens.AutoNamedRandomTraceable,\n",
       " <pto.core.automatic_names.autogens.AutoNamedRandomTraceable at 0x106a03850>,\n",
       " pto.core.automatic_names.run.NameRunner,\n",
       " <bound method NameRunner.run of <class 'pto.core.automatic_names.run.NameRunner'>>,\n",
       " <function pto.core.automatic_names.ast_trans.transform_ast(tree)>,\n",
       " <function pto.core.automatic_names.gen.ast_transform_decorator.<locals>.decorator(func)>,\n",
       " pto.core.automatic_names.trans_run.NameTransRunner,\n",
       " <bound method NameTransRunner.run of <class 'pto.core.automatic_names.trans_run.NameTransRunner'>>)"
      ]
     },
     "execution_count": 2,
     "metadata": {},
     "output_type": "execute_result"
    }
   ],
   "source": [
    "Node, Name, func_name, iter_name, Loop_name, AutoNamedRandomTraceable, rnd, NameRunner, _run, transform_ast, gen, NameTransRunner, run"
   ]
  }
 ],
 "metadata": {
  "kernelspec": {
   "display_name": "Python 3 (ipykernel)",
   "language": "python",
   "name": "python3"
  },
  "language_info": {
   "codemirror_mode": {
    "name": "ipython",
    "version": 3
   },
   "file_extension": ".py",
   "mimetype": "text/x-python",
   "name": "python",
   "nbconvert_exporter": "python",
   "pygments_lexer": "ipython3",
   "version": "3.11.7"
  }
 },
 "nbformat": 4,
 "nbformat_minor": 5
}
