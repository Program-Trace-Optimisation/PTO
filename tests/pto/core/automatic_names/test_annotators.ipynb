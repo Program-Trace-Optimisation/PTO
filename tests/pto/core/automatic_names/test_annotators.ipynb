{
 "cells": [
  {
   "cell_type": "markdown",
   "id": "b4db957d",
   "metadata": {},
   "source": [
    "# Tests for annotators"
   ]
  },
  {
   "cell_type": "code",
   "execution_count": 2,
   "id": "e38862b4",
   "metadata": {},
   "outputs": [],
   "source": [
    "from pto.core.automatic_names import func_name, iter_name, Loop_name, rnd, Name"
   ]
  },
  {
   "cell_type": "code",
   "execution_count": 3,
   "id": "45813cdc",
   "metadata": {},
   "outputs": [
    {
     "data": {
      "text/plain": [
       "('repair', 'str')"
      ]
     },
     "execution_count": 3,
     "metadata": {},
     "output_type": "execute_result"
    }
   ],
   "source": [
    "rnd.CONFIG()"
   ]
  },
  {
   "cell_type": "code",
   "execution_count": 4,
   "id": "e0644d91",
   "metadata": {},
   "outputs": [
    {
     "data": {
      "text/plain": [
       "('coarse', 'str')"
      ]
     },
     "execution_count": 4,
     "metadata": {},
     "output_type": "execute_result"
    }
   ],
   "source": [
    "rnd.CONFIG(dist_type='coarse')"
   ]
  },
  {
   "cell_type": "code",
   "execution_count": 5,
   "id": "f0b76769",
   "metadata": {},
   "outputs": [
    {
     "data": {
      "text/plain": [
       "('coarse', 'lin')"
      ]
     },
     "execution_count": 5,
     "metadata": {},
     "output_type": "execute_result"
    }
   ],
   "source": [
    "rnd.CONFIG(name_type='lin')"
   ]
  },
  {
   "cell_type": "code",
   "execution_count": 6,
   "id": "52f41728",
   "metadata": {},
   "outputs": [
    {
     "data": {
      "text/plain": [
       "('repair', 'str')"
      ]
     },
     "execution_count": 6,
     "metadata": {},
     "output_type": "execute_result"
    }
   ],
   "source": [
    "rnd.CONFIG(dist_type='repair', name_type='str')"
   ]
  },
  {
   "cell_type": "code",
   "execution_count": 7,
   "id": "27057fd1",
   "metadata": {},
   "outputs": [],
   "source": [
    "# tests for func_name\n",
    "\n",
    "func_set = [('and', 2), ('or', 2), ('not', 1)] # functions set\n",
    "term_set = [('x1',0), ('x2',0), ('x3',0)] # terminals set\n",
    "\n",
    "# Growth Initialisation\n",
    "@func_name\n",
    "def generator(): \n",
    "\n",
    "  @func_name\n",
    "  def rnd_expr():\n",
    "    node, arity = rnd.choice(term_set+func_set)\n",
    "    if arity == 0:\n",
    "        expr = node\n",
    "    elif arity == 1:\n",
    "        expr = '(%s %s)' % (node, rnd_expr())\n",
    "    else: # arity = 2\n",
    "        expr = '(%s %s %s)' % (rnd_expr(), node, rnd_expr())\n",
    "    return expr\n",
    "\n",
    "  return rnd_expr()"
   ]
  },
  {
   "cell_type": "code",
   "execution_count": 8,
   "id": "cec2d34b-a064-45ee-b39d-bee4ada07b9d",
   "metadata": {},
   "outputs": [
    {
     "data": {
      "text/plain": [
       "[]"
      ]
     },
     "execution_count": 8,
     "metadata": {},
     "output_type": "execute_result"
    }
   ],
   "source": [
    "Name.stack"
   ]
  },
  {
   "cell_type": "code",
   "execution_count": 9,
   "id": "079161c7",
   "metadata": {},
   "outputs": [
    {
     "name": "stdout",
     "output_type": "stream",
     "text": [
      "root/rnd_expr@(21,56)/choice@(12,78)\n"
     ]
    },
    {
     "data": {
      "text/plain": [
       "'x1'"
      ]
     },
     "execution_count": 9,
     "metadata": {},
     "output_type": "execute_result"
    }
   ],
   "source": [
    "generator()"
   ]
  },
  {
   "cell_type": "code",
   "execution_count": 10,
   "id": "5891c5b6-1e7a-4579-884f-026c7f3e83bb",
   "metadata": {},
   "outputs": [
    {
     "data": {
      "text/plain": [
       "[]"
      ]
     },
     "execution_count": 10,
     "metadata": {},
     "output_type": "execute_result"
    }
   ],
   "source": [
    "Name.stack"
   ]
  },
  {
   "cell_type": "code",
   "execution_count": 11,
   "id": "8214c7ce",
   "metadata": {},
   "outputs": [],
   "source": [
    "# tests for iter_name\n",
    "\n",
    "Name.stack=[]\n",
    "\n",
    "@func_name\n",
    "def generator():\n",
    "    return [rnd.choice([0,1]) for _ in iter_name(range(10))]\n"
   ]
  },
  {
   "cell_type": "code",
   "execution_count": 12,
   "id": "2ae5ee54",
   "metadata": {},
   "outputs": [
    {
     "name": "stdout",
     "output_type": "stream",
     "text": [
      "root/iter@(7,6):0/choice@(7,62)\n",
      "root/iter@(7,6):1/choice@(7,62)\n",
      "root/iter@(7,6):2/choice@(7,62)\n",
      "root/iter@(7,6):3/choice@(7,62)\n",
      "root/iter@(7,6):4/choice@(7,62)\n",
      "root/iter@(7,6):5/choice@(7,62)\n",
      "root/iter@(7,6):6/choice@(7,62)\n",
      "root/iter@(7,6):7/choice@(7,62)\n",
      "root/iter@(7,6):8/choice@(7,62)\n",
      "root/iter@(7,6):9/choice@(7,62)\n"
     ]
    },
    {
     "data": {
      "text/plain": [
       "[0, 0, 1, 0, 1, 0, 0, 1, 0, 0]"
      ]
     },
     "execution_count": 12,
     "metadata": {},
     "output_type": "execute_result"
    }
   ],
   "source": [
    "generator()"
   ]
  },
  {
   "cell_type": "code",
   "execution_count": 13,
   "id": "f4d2e0a8",
   "metadata": {},
   "outputs": [
    {
     "data": {
      "text/plain": [
       "[]"
      ]
     },
     "execution_count": 13,
     "metadata": {},
     "output_type": "execute_result"
    }
   ],
   "source": [
    "Name.stack"
   ]
  },
  {
   "cell_type": "code",
   "execution_count": 14,
   "id": "07f7c55d",
   "metadata": {},
   "outputs": [],
   "source": [
    "Name.stack=[]\n",
    "\n",
    "@func_name\n",
    "def generator():\n",
    "    return [[rnd.choice([0,1]) for _ in iter_name(range(3))] \n",
    "            for _ in iter_name(range(3))]"
   ]
  },
  {
   "cell_type": "code",
   "execution_count": 15,
   "id": "dd90957a",
   "metadata": {},
   "outputs": [
    {
     "name": "stdout",
     "output_type": "stream",
     "text": [
      "root/iter@(5,6):0/iter@(5,6):0/choice@(5,62)\n",
      "root/iter@(5,6):0/iter@(5,6):1/choice@(5,62)\n",
      "root/iter@(5,6):0/iter@(5,6):2/choice@(5,62)\n",
      "root/iter@(5,6):1/iter@(5,6):0/choice@(5,62)\n",
      "root/iter@(5,6):1/iter@(5,6):1/choice@(5,62)\n",
      "root/iter@(5,6):1/iter@(5,6):2/choice@(5,62)\n",
      "root/iter@(5,6):2/iter@(5,6):0/choice@(5,62)\n",
      "root/iter@(5,6):2/iter@(5,6):1/choice@(5,62)\n",
      "root/iter@(5,6):2/iter@(5,6):2/choice@(5,62)\n"
     ]
    },
    {
     "data": {
      "text/plain": [
       "[[1, 1, 1], [0, 0, 1], [1, 0, 0]]"
      ]
     },
     "execution_count": 15,
     "metadata": {},
     "output_type": "execute_result"
    }
   ],
   "source": [
    "generator()"
   ]
  },
  {
   "cell_type": "code",
   "execution_count": 16,
   "id": "7fa7beea",
   "metadata": {},
   "outputs": [
    {
     "data": {
      "text/plain": [
       "[]"
      ]
     },
     "execution_count": 16,
     "metadata": {},
     "output_type": "execute_result"
    }
   ],
   "source": [
    "Name.stack"
   ]
  },
  {
   "cell_type": "code",
   "execution_count": 17,
   "id": "ccb136ee",
   "metadata": {},
   "outputs": [],
   "source": [
    "# tests for Loop_name\n",
    "\n",
    "Name.stack=[]\n",
    "\n",
    "@func_name\n",
    "def generator():\n",
    "    lst = []\n",
    "    with Loop_name() as count:\n",
    "        for _ in range(10):\n",
    "            lst.append(rnd.choice([0,1]))\n",
    "            count()\n",
    "            \n",
    "    return lst\n"
   ]
  },
  {
   "cell_type": "code",
   "execution_count": 18,
   "id": "a99cfa9b",
   "metadata": {},
   "outputs": [
    {
     "name": "stdout",
     "output_type": "stream",
     "text": [
      "root/loop@(8,32):0/choice@(10,146)\n",
      "root/loop@(8,32):1/choice@(10,146)\n",
      "root/loop@(8,32):2/choice@(10,146)\n",
      "root/loop@(8,32):3/choice@(10,146)\n",
      "root/loop@(8,32):4/choice@(10,146)\n",
      "root/loop@(8,32):5/choice@(10,146)\n",
      "root/loop@(8,32):6/choice@(10,146)\n",
      "root/loop@(8,32):7/choice@(10,146)\n",
      "root/loop@(8,32):8/choice@(10,146)\n",
      "root/loop@(8,32):9/choice@(10,146)\n"
     ]
    },
    {
     "data": {
      "text/plain": [
       "[0, 1, 0, 1, 0, 0, 1, 0, 0, 1]"
      ]
     },
     "execution_count": 18,
     "metadata": {},
     "output_type": "execute_result"
    }
   ],
   "source": [
    "generator()"
   ]
  },
  {
   "cell_type": "code",
   "execution_count": 19,
   "id": "2ff52e5c",
   "metadata": {},
   "outputs": [],
   "source": [
    "Name.stack=[]\n",
    "\n",
    "@func_name\n",
    "def generator():\n",
    "    mat = [[0 for _ in iter_name(range(3))] for _ in iter_name(range(3))]\n",
    "    with Loop_name() as count:\n",
    "        for i in range(3):\n",
    "            with Loop_name() as count:\n",
    "                for j in range(3):\n",
    "                    mat[i][j]=rnd.choice([0,1])\n",
    "                    count()\n",
    "            count()\n",
    "\n",
    "    return mat\n"
   ]
  },
  {
   "cell_type": "code",
   "execution_count": 20,
   "id": "604c7a96",
   "metadata": {},
   "outputs": [
    {
     "name": "stdout",
     "output_type": "stream",
     "text": [
      "root/loop@(6,104):0/loop@(8,168):0/choice@(10,258)\n",
      "root/loop@(6,104):0/loop@(8,168):1/choice@(10,258)\n",
      "root/loop@(6,104):0/loop@(8,168):2/choice@(10,258)\n",
      "root/loop@(6,104):1/loop@(8,168):0/choice@(10,258)\n",
      "root/loop@(6,104):1/loop@(8,168):1/choice@(10,258)\n",
      "root/loop@(6,104):1/loop@(8,168):2/choice@(10,258)\n",
      "root/loop@(6,104):2/loop@(8,168):0/choice@(10,258)\n",
      "root/loop@(6,104):2/loop@(8,168):1/choice@(10,258)\n",
      "root/loop@(6,104):2/loop@(8,168):2/choice@(10,258)\n"
     ]
    },
    {
     "data": {
      "text/plain": [
       "[[1, 1, 0], [1, 1, 0], [0, 1, 1]]"
      ]
     },
     "execution_count": 20,
     "metadata": {},
     "output_type": "execute_result"
    }
   ],
   "source": [
    "generator()"
   ]
  },
  {
   "cell_type": "code",
   "execution_count": 21,
   "id": "1a803fbf",
   "metadata": {},
   "outputs": [],
   "source": [
    "# it also should work with while loop and loop break"
   ]
  }
 ],
 "metadata": {
  "kernelspec": {
   "display_name": "Python 3 (ipykernel)",
   "language": "python",
   "name": "python3"
  },
  "language_info": {
   "codemirror_mode": {
    "name": "ipython",
    "version": 3
   },
   "file_extension": ".py",
   "mimetype": "text/x-python",
   "name": "python",
   "nbconvert_exporter": "python",
   "pygments_lexer": "ipython3",
   "version": "3.11.7"
  }
 },
 "nbformat": 4,
 "nbformat_minor": 5
}
