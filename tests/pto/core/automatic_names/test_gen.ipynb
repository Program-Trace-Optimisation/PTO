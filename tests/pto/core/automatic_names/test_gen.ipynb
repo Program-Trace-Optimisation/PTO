{
 "cells": [
  {
   "cell_type": "markdown",
   "id": "94909b38",
   "metadata": {},
   "source": [
    "# Tests AST decorator"
   ]
  },
  {
   "cell_type": "code",
   "execution_count": 2,
   "id": "ff5c4967",
   "metadata": {},
   "outputs": [],
   "source": [
    "from pto.core.automatic_names import gen, rnd "
   ]
  },
  {
   "cell_type": "code",
   "execution_count": 3,
   "id": "97faea06",
   "metadata": {},
   "outputs": [],
   "source": [
    "##### SYMBOLIC REGRESSION with alternative generator and automatic names\n",
    "\n",
    "# When name is not explicitly specified for an elementary random generator, it is determined automatically\n",
    "\n",
    "func_set = [('and', 2), ('or', 2), ('not', 1)] # functions set\n",
    "term_set = [('x1',0), ('x2',0), ('x3',0)] # terminals set\n",
    "\n",
    "# Growth Initialisation\n",
    "\n",
    "def generator(): \n",
    "\n",
    "  def rnd_expr():\n",
    "    node, arity = rnd.choice(term_set+func_set)\n",
    "    if arity == 0:\n",
    "        expr = node\n",
    "    elif arity == 1:\n",
    "        expr = '(%s %s)' % (node, rnd_expr())\n",
    "    else: # arity = 2\n",
    "        expr = '(%s %s %s)' % (rnd_expr(), node, rnd_expr())\n",
    "    return expr\n",
    "\n",
    "  return rnd_expr()"
   ]
  },
  {
   "cell_type": "code",
   "execution_count": 4,
   "id": "7c8a284e",
   "metadata": {},
   "outputs": [
    {
     "name": "stdout",
     "output_type": "stream",
     "text": [
      "root/\n",
      "root/\n",
      "root/\n",
      "root/\n",
      "root/\n",
      "root/\n",
      "root/\n",
      "root/\n",
      "root/\n"
     ]
    },
    {
     "data": {
      "text/plain": [
       "'(x3 and (((not x3) and (not x2)) or x3))'"
      ]
     },
     "execution_count": 4,
     "metadata": {},
     "output_type": "execute_result"
    }
   ],
   "source": [
    "generator()"
   ]
  },
  {
   "cell_type": "code",
   "execution_count": 5,
   "id": "98d2b171-b402-4847-ac1d-2c43b03ff25d",
   "metadata": {},
   "outputs": [
    {
     "data": {
      "text/plain": [
       "('repair', 'str')"
      ]
     },
     "execution_count": 5,
     "metadata": {},
     "output_type": "execute_result"
    }
   ],
   "source": [
    "rnd.CONFIG()"
   ]
  },
  {
   "cell_type": "code",
   "execution_count": 6,
   "id": "87a22cf2",
   "metadata": {},
   "outputs": [],
   "source": [
    "##### SYMBOLIC REGRESSION with alternative generator and automatic names\n",
    "\n",
    "# When name is not explicitly specified for an elementary random generator, it is determined automatically\n",
    "\n",
    "\n",
    "# Growth Initialisation\n",
    "@gen\n",
    "def generator():\n",
    "    \n",
    "    func_set = [('and', 2), ('or', 2), ('not', 1)] # functions set\n",
    "    term_set = [('x1',0), ('x2',0), ('x3',0)] # terminals set    \n",
    "\n",
    "    def rnd_expr():\n",
    "        node, arity = rnd.choice(term_set+func_set)\n",
    "        if arity == 0:\n",
    "            expr = node\n",
    "        elif arity == 1:\n",
    "            expr = '(%s %s)' % (node, rnd_expr())\n",
    "        else: # arity = 2\n",
    "            expr = '(%s %s %s)' % (rnd_expr(), node, rnd_expr())\n",
    "        return expr\n",
    "\n",
    "    return rnd_expr()"
   ]
  },
  {
   "cell_type": "code",
   "execution_count": 7,
   "id": "1024d16b",
   "metadata": {},
   "outputs": [
    {
     "name": "stdout",
     "output_type": "stream",
     "text": [
      "root/rnd_expr@(16,80)/choice@(7,58)\n",
      "root/rnd_expr@(16,80)/rnd_expr@(11,122)/choice@(7,58)\n"
     ]
    },
    {
     "data": {
      "text/plain": [
       "'(not x1)'"
      ]
     },
     "execution_count": 7,
     "metadata": {},
     "output_type": "execute_result"
    }
   ],
   "source": [
    "generator()"
   ]
  },
  {
   "cell_type": "code",
   "execution_count": 8,
   "id": "fecfa310",
   "metadata": {},
   "outputs": [],
   "source": [
    "def random_program():\n",
    "    return([rnd.random(), rnd.choice(['a','b','c']), rnd.randint(1, 10)])\n",
    "\n",
    "def fitness(sol): return sol[0]"
   ]
  },
  {
   "cell_type": "code",
   "execution_count": 9,
   "id": "1867b854-d416-46c8-ba05-f5675e9186bf",
   "metadata": {},
   "outputs": [
    {
     "name": "stdout",
     "output_type": "stream",
     "text": [
      "root/\n",
      "root/\n",
      "root/\n"
     ]
    },
    {
     "data": {
      "text/plain": [
       "[0.03592281478008286, 'b', 2]"
      ]
     },
     "execution_count": 9,
     "metadata": {},
     "output_type": "execute_result"
    }
   ],
   "source": [
    "random_program()"
   ]
  },
  {
   "cell_type": "code",
   "execution_count": 10,
   "id": "e08aedbf-0373-4276-95c0-2d28004d6667",
   "metadata": {},
   "outputs": [],
   "source": [
    "@gen\n",
    "def random_program():\n",
    "    return([rnd.random(), rnd.choice(['a','b','c']), rnd.randint(1, 10)])\n",
    "\n",
    "def fitness(sol): return sol[0]"
   ]
  },
  {
   "cell_type": "code",
   "execution_count": 11,
   "id": "8a5743d3-bc28-49e9-b88a-a63268760b1f",
   "metadata": {},
   "outputs": [
    {
     "name": "stdout",
     "output_type": "stream",
     "text": [
      "root/random@(2,48)\n",
      "root/choice@(2,102)\n",
      "root/randint@(2,154)\n"
     ]
    },
    {
     "data": {
      "text/plain": [
       "[0.2014350060105089, 'b', 7]"
      ]
     },
     "execution_count": 11,
     "metadata": {},
     "output_type": "execute_result"
    }
   ],
   "source": [
    "random_program()"
   ]
  },
  {
   "cell_type": "code",
   "execution_count": 12,
   "id": "a8699fca-bd39-4700-8277-f77367e82747",
   "metadata": {},
   "outputs": [
    {
     "name": "stdout",
     "output_type": "stream",
     "text": [
      "def random_program():\n",
      "    return([rnd.random(), rnd.choice(['a','b','c']), rnd.randint(1, 10)])\n"
     ]
    }
   ],
   "source": [
    "print(random_program._old_source)"
   ]
  },
  {
   "cell_type": "code",
   "execution_count": 13,
   "id": "a40e2561-a553-4677-a389-4566a3e29306",
   "metadata": {},
   "outputs": [
    {
     "name": "stdout",
     "output_type": "stream",
     "text": [
      "@func_name\n",
      "def random_program():\n",
      "    return [rnd.random(), rnd.choice(['a', 'b', 'c']), rnd.randint(1, 10)]\n"
     ]
    }
   ],
   "source": [
    "print(random_program._new_source)"
   ]
  }
 ],
 "metadata": {
  "kernelspec": {
   "display_name": "Python 3 (ipykernel)",
   "language": "python",
   "name": "python3"
  },
  "language_info": {
   "codemirror_mode": {
    "name": "ipython",
    "version": 3
   },
   "file_extension": ".py",
   "mimetype": "text/x-python",
   "name": "python",
   "nbconvert_exporter": "python",
   "pygments_lexer": "ipython3",
   "version": "3.11.7"
  }
 },
 "nbformat": 4,
 "nbformat_minor": 5
}
