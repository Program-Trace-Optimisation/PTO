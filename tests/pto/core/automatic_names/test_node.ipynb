{
 "cells": [
  {
   "cell_type": "markdown",
   "id": "152da8da",
   "metadata": {},
   "source": [
    "# Tests for name node"
   ]
  },
  {
   "cell_type": "code",
   "execution_count": 1,
   "id": "a83035d0",
   "metadata": {},
   "outputs": [],
   "source": [
    "from pto.core.automatic_names import Node"
   ]
  },
  {
   "cell_type": "code",
   "execution_count": 2,
   "id": "cdc87e14",
   "metadata": {},
   "outputs": [
    {
     "data": {
      "text/plain": [
       "test@(3577,202)"
      ]
     },
     "execution_count": 2,
     "metadata": {},
     "output_type": "execute_result"
    }
   ],
   "source": [
    "Node('test')"
   ]
  },
  {
   "cell_type": "code",
   "execution_count": 3,
   "id": "01d6f44a",
   "metadata": {},
   "outputs": [
    {
     "data": {
      "text/plain": [
       "test@(3577,202):0"
      ]
     },
     "execution_count": 3,
     "metadata": {},
     "output_type": "execute_result"
    }
   ],
   "source": [
    "Node('test', 0)"
   ]
  },
  {
   "cell_type": "code",
   "execution_count": 4,
   "id": "3e369102",
   "metadata": {},
   "outputs": [
    {
     "data": {
      "text/plain": [
       "test@(3577,202):1"
      ]
     },
     "execution_count": 4,
     "metadata": {},
     "output_type": "execute_result"
    }
   ],
   "source": [
    "node=Node('test', 0)\n",
    "node.inc_count()\n",
    "node"
   ]
  }
 ],
 "metadata": {
  "kernelspec": {
   "display_name": "Python 3 (ipykernel)",
   "language": "python",
   "name": "python3"
  },
  "language_info": {
   "codemirror_mode": {
    "name": "ipython",
    "version": 3
   },
   "file_extension": ".py",
   "mimetype": "text/x-python",
   "name": "python",
   "nbconvert_exporter": "python",
   "pygments_lexer": "ipython3",
   "version": "3.11.7"
  }
 },
 "nbformat": 4,
 "nbformat_minor": 5
}
