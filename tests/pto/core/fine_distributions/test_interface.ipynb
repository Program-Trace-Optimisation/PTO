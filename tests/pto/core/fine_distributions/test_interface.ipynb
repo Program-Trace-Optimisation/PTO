{
 "cells": [
  {
   "cell_type": "markdown",
   "id": "6e475961-6cf3-4cb6-91a8-f6823a996914",
   "metadata": {},
   "source": [
    "# Tests for interface"
   ]
  },
  {
   "cell_type": "code",
   "execution_count": 1,
   "id": "3315ba95",
   "metadata": {},
   "outputs": [],
   "source": [
    "from pto.core.fine_distributions import *"
   ]
  },
  {
   "cell_type": "code",
   "execution_count": 2,
   "id": "10baa52a",
   "metadata": {},
   "outputs": [
    {
     "data": {
      "text/plain": [
       "(pto.core.fine_distributions.distributions.Random_real,\n",
       " pto.core.fine_distributions.distributions.Random_int,\n",
       " pto.core.fine_distributions.distributions.Random_cat,\n",
       " pto.core.fine_distributions.traceables.RandomTraceable,\n",
       " <pto.core.fine_distributions.traceables.RandomTraceable at 0x107b07150>,\n",
       " pto.core.fine_distributions.run.FineRunner,\n",
       " <bound method FineRunner.run of <class 'pto.core.fine_distributions.run.FineRunner'>>)"
      ]
     },
     "execution_count": 2,
     "metadata": {},
     "output_type": "execute_result"
    }
   ],
   "source": [
    "Random_real, Random_int, Random_cat, RandomTraceable, rnd, FineRunner, run"
   ]
  },
  {
   "cell_type": "code",
   "execution_count": null,
   "id": "521c2d7e",
   "metadata": {},
   "outputs": [],
   "source": []
  }
 ],
 "metadata": {
  "kernelspec": {
   "display_name": "Python 3 (ipykernel)",
   "language": "python",
   "name": "python3"
  },
  "language_info": {
   "codemirror_mode": {
    "name": "ipython",
    "version": 3
   },
   "file_extension": ".py",
   "mimetype": "text/x-python",
   "name": "python",
   "nbconvert_exporter": "python",
   "pygments_lexer": "ipython3",
   "version": "3.11.7"
  }
 },
 "nbformat": 4,
 "nbformat_minor": 5
}
