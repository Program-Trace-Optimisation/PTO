{
 "cells": [
  {
   "cell_type": "markdown",
   "id": "befbfeeb",
   "metadata": {},
   "source": [
    "# Tests for real distributions"
   ]
  },
  {
   "cell_type": "code",
   "execution_count": 1,
   "id": "f3deadab",
   "metadata": {},
   "outputs": [],
   "source": [
    "import random\n",
    "from pto.core.fine_distributions import Random_real, supp\n",
    "\n"
   ]
  },
  {
   "cell_type": "code",
   "execution_count": 2,
   "id": "162eefe8",
   "metadata": {},
   "outputs": [
    {
     "data": {
      "text/plain": [
       "{<function Random.random()>: ('real',\n",
       "  <function pto.core.fine_distributions.supp.<lambda>(args)>),\n",
       " <bound method Random.uniform of <random.Random object at 0x146830020>>: ('real',\n",
       "  <function pto.core.fine_distributions.supp.<lambda>(args)>),\n",
       " <bound method Random.triangular of <random.Random object at 0x146830020>>: ('real',\n",
       "  <function pto.core.fine_distributions.supp.<lambda>(args)>),\n",
       " <bound method Random.betavariate of <random.Random object at 0x146830020>>: ('real',\n",
       "  <function pto.core.fine_distributions.supp.<lambda>(args)>),\n",
       " <bound method Random.expovariate of <random.Random object at 0x146830020>>: ('real',\n",
       "  <function pto.core.fine_distributions.supp.<lambda>(args)>),\n",
       " <bound method Random.gammavariate of <random.Random object at 0x146830020>>: ('real',\n",
       "  <function pto.core.fine_distributions.supp.<lambda>(args)>),\n",
       " <bound method Random.gauss of <random.Random object at 0x146830020>>: ('real',\n",
       "  <function pto.core.fine_distributions.supp.<lambda>(args)>),\n",
       " <bound method Random.lognormvariate of <random.Random object at 0x146830020>>: ('real',\n",
       "  <function pto.core.fine_distributions.supp.<lambda>(args)>),\n",
       " <bound method Random.normalvariate of <random.Random object at 0x146830020>>: ('real',\n",
       "  <function pto.core.fine_distributions.supp.<lambda>(args)>),\n",
       " <bound method Random.vonmisesvariate of <random.Random object at 0x146830020>>: ('real',\n",
       "  <function pto.core.fine_distributions.supp.<lambda>(args)>),\n",
       " <bound method Random.paretovariate of <random.Random object at 0x146830020>>: ('real',\n",
       "  <function pto.core.fine_distributions.supp.<lambda>(args)>),\n",
       " <bound method Random.weibullvariate of <random.Random object at 0x146830020>>: ('real',\n",
       "  <function pto.core.fine_distributions.supp.<lambda>(args)>),\n",
       " <bound method Random.randrange of <random.Random object at 0x146830020>>: ('int',\n",
       "  <function pto.core.fine_distributions.supp.<lambda>(args)>),\n",
       " <bound method Random.randint of <random.Random object at 0x146830020>>: ('int',\n",
       "  <function pto.core.fine_distributions.supp.<lambda>(args)>),\n",
       " <bound method Random.choice of <random.Random object at 0x146830020>>: ('cat',\n",
       "  <function pto.core.fine_distributions.supp.<lambda>(args)>)}"
      ]
     },
     "execution_count": 2,
     "metadata": {},
     "output_type": "execute_result"
    }
   ],
   "source": [
    "#test supp\n",
    "\n",
    "supp"
   ]
  },
  {
   "cell_type": "code",
   "execution_count": 3,
   "id": "44c91fc8",
   "metadata": {},
   "outputs": [
    {
     "data": {
      "text/plain": [
       "('random', 0, 1, 1)"
      ]
     },
     "execution_count": 3,
     "metadata": {},
     "output_type": "execute_result"
    }
   ],
   "source": [
    "# test __init__\n",
    "\n",
    "d = Random_real(random.random, )\n",
    "d.fun.__name__, d.min, d.max, d.range"
   ]
  },
  {
   "cell_type": "code",
   "execution_count": 4,
   "id": "0ed74ad7",
   "metadata": {},
   "outputs": [
    {
     "name": "stdout",
     "output_type": "stream",
     "text": [
      "Random_real(random, (),  val=-1)\n",
      "Random_real(random, (),  val=0.7951731972460875)\n"
     ]
    }
   ],
   "source": [
    "# test sample\n",
    "\n",
    "d = Random_real(random.random, val = -1)\n",
    "print(d)\n",
    "d.sample()\n",
    "print(d)"
   ]
  },
  {
   "cell_type": "code",
   "execution_count": 5,
   "id": "aaf1f713",
   "metadata": {},
   "outputs": [
    {
     "name": "stdout",
     "output_type": "stream",
     "text": [
      "Random_real(random, (),  val=-1)\n",
      "Random_real(random, (),  val=0)\n"
     ]
    }
   ],
   "source": [
    "# test repair_val\n",
    "\n",
    "d = Random_real(random.random, val = -1)\n",
    "print(d)\n",
    "d.repair_val()\n",
    "print(d)"
   ]
  },
  {
   "cell_type": "code",
   "execution_count": 6,
   "id": "aeb225d7",
   "metadata": {},
   "outputs": [
    {
     "name": "stdout",
     "output_type": "stream",
     "text": [
      "Random_real(random, (),  val=0.49890627883166583)\n",
      "Random_real(random, (),  val=0.45963289489426495)\n"
     ]
    }
   ],
   "source": [
    "# test mutation\n",
    "\n",
    "d = Random_real(random.random)\n",
    "d.sample()\n",
    "print(d)\n",
    "d1=d.mutation()\n",
    "print(d1)"
   ]
  },
  {
   "cell_type": "code",
   "execution_count": 7,
   "id": "c7d23c7b",
   "metadata": {},
   "outputs": [
    {
     "name": "stdout",
     "output_type": "stream",
     "text": [
      "Random_real(random, (),  val=0.6668805911430691) Random_real(random, (),  val=0.7931283977408988)\n",
      "Random_real(random, (),  val=0.7018257845386691)\n"
     ]
    }
   ],
   "source": [
    "# test crossover (blend)\n",
    "\n",
    "p1 = Random_real(random.random)\n",
    "p1.sample()\n",
    "p2 = Random_real(random.random)\n",
    "p2.sample()\n",
    "print(p1, p2)\n",
    "off=p1.crossover(p2)\n",
    "print(off)"
   ]
  },
  {
   "cell_type": "code",
   "execution_count": 9,
   "id": "a69f30d0",
   "metadata": {},
   "outputs": [
    {
     "name": "stdout",
     "output_type": "stream",
     "text": [
      "Random_real(random, (),  val=0.9507609999145533) Dist(random, (),  val=0.40153839009236214)\n",
      "Dist(random, (),  val=0.40153839009236214)\n"
     ]
    }
   ],
   "source": [
    "# test crossover (mismatch --> discrete)\n",
    "\n",
    "from pto.core.base import Dist\n",
    "\n",
    "p1 = Random_real(random.random)\n",
    "p1.sample()\n",
    "p2 = Dist(random.random)\n",
    "p2.sample()\n",
    "print(p1, p2)\n",
    "off=p1.crossover(p2)\n",
    "print(off)"
   ]
  },
  {
   "cell_type": "code",
   "execution_count": null,
   "id": "a5d8871f",
   "metadata": {},
   "outputs": [],
   "source": []
  }
 ],
 "metadata": {
  "kernelspec": {
   "display_name": "Python 3 (ipykernel)",
   "language": "python",
   "name": "python3"
  },
  "language_info": {
   "codemirror_mode": {
    "name": "ipython",
    "version": 3
   },
   "file_extension": ".py",
   "mimetype": "text/x-python",
   "name": "python",
   "nbconvert_exporter": "python",
   "pygments_lexer": "ipython3",
   "version": "3.11.7"
  }
 },
 "nbformat": 4,
 "nbformat_minor": 5
}
