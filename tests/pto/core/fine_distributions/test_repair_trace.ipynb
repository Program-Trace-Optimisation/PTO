{
 "cells": [
  {
   "cell_type": "markdown",
   "id": "c69dda32",
   "metadata": {},
   "source": [
    "# Tests for repair trace"
   ]
  },
  {
   "cell_type": "code",
   "execution_count": 2,
   "id": "5d4a47cf",
   "metadata": {},
   "outputs": [],
   "source": [
    "import random\n",
    "from pto.core.base import Dist\n",
    "from pto.core.fine_distributions import Random_real_repair, Random_int_repair, Random_cat_repair\n"
   ]
  },
  {
   "cell_type": "code",
   "execution_count": 3,
   "id": "61d792d0",
   "metadata": {},
   "outputs": [
    {
     "data": {
      "text/plain": [
       "mappingproxy({'__module__': 'pto.core.base.distribution',\n",
       "              '__init__': <function pto.core.base.distribution.Dist.__init__(self, fun, *args, val=None)>,\n",
       "              'sample': <function pto.core.base.distribution.Dist.sample(self)>,\n",
       "              'repair': <function pto.core.base.distribution.Dist.repair(self, _)>,\n",
       "              'mutation': <function pto.core.base.distribution.Dist.mutation(self)>,\n",
       "              'crossover': <function pto.core.base.distribution.Dist.crossover(self, other)>,\n",
       "              '__repr__': <function pto.core.base.distribution.Dist.__repr__(self)>,\n",
       "              '__eq__': <function pto.core.base.distribution.Dist.__eq__(self, other)>,\n",
       "              '__dict__': <attribute '__dict__' of 'Dist' objects>,\n",
       "              '__weakref__': <attribute '__weakref__' of 'Dist' objects>,\n",
       "              '__doc__': None,\n",
       "              '__hash__': None})"
      ]
     },
     "execution_count": 3,
     "metadata": {},
     "output_type": "execute_result"
    }
   ],
   "source": [
    "# check that new repair method has overridden old one\n",
    "\n",
    "Dist.__dict__"
   ]
  },
  {
   "cell_type": "code",
   "execution_count": 4,
   "id": "23138bdb",
   "metadata": {},
   "outputs": [
    {
     "data": {
      "text/plain": [
       "(Dist(random, (),  val=0.5),\n",
       " Dist(randint, (1, 3),  val=2),\n",
       " Dist(choice, ([0, 1],),  val=0))"
      ]
     },
     "execution_count": 4,
     "metadata": {},
     "output_type": "execute_result"
    }
   ],
   "source": [
    "# coarse distributions\n",
    "dist1 = Dist(random.random, val = 0.5)\n",
    "dist2 = Dist(random.randint, 1, 3, val = 2)\n",
    "dist3 = Dist(random.choice, [0,1], val = 0)\n",
    "dist1, dist2, dist3"
   ]
  },
  {
   "cell_type": "code",
   "execution_count": 5,
   "id": "43d7aa41",
   "metadata": {},
   "outputs": [
    {
     "data": {
      "text/plain": [
       "(Dist(random, (),  val=0.7),\n",
       " Dist(randint, (1, 3),  val=1),\n",
       " Dist(choice, ([0, 1],),  val=1))"
      ]
     },
     "execution_count": 5,
     "metadata": {},
     "output_type": "execute_result"
    }
   ],
   "source": [
    "dist1_trace = Dist(random.random, val = 0.7)\n",
    "dist2_trace = Dist(random.randint, 1, 3, val = 1)\n",
    "dist3_trace = Dist(random.choice, [0,1], val = 1)\n",
    "dist1_trace, dist2_trace, dist3_trace"
   ]
  },
  {
   "cell_type": "code",
   "execution_count": 6,
   "id": "857348fa",
   "metadata": {},
   "outputs": [
    {
     "data": {
      "text/plain": [
       "(Dist(random, (),  val=0.816454391830056),\n",
       " Dist(randint, (1, 3),  val=1),\n",
       " Dist(choice, ([0, 1],),  val=1))"
      ]
     },
     "execution_count": 6,
     "metadata": {},
     "output_type": "execute_result"
    }
   ],
   "source": [
    "# test new repair mechanism with coarse distribution\n",
    "# incompatible input distribution leads to resampling\n",
    "dist1.repair(None)\n",
    "dist2.repair(None)\n",
    "dist3.repair(None)\n",
    "dist1, dist2, dist3"
   ]
  },
  {
   "cell_type": "code",
   "execution_count": 7,
   "id": "da0ad23d",
   "metadata": {},
   "outputs": [
    {
     "data": {
      "text/plain": [
       "(Dist(random, (),  val=0.9241582238950611),\n",
       " Dist(randint, (1, 3),  val=1),\n",
       " Dist(choice, ([0, 1],),  val=1))"
      ]
     },
     "execution_count": 7,
     "metadata": {},
     "output_type": "execute_result"
    }
   ],
   "source": [
    "# test new repair mechanism with coarse distribution\n",
    "# compatible input distribution leads to repairing (coarse reparing = resampling)\n",
    "dist1.repair(dist1_trace)\n",
    "dist2.repair(dist2_trace)\n",
    "dist3.repair(dist3_trace)\n",
    "dist1, dist2, dist3"
   ]
  },
  {
   "cell_type": "code",
   "execution_count": 8,
   "id": "f6a0ab01",
   "metadata": {},
   "outputs": [
    {
     "data": {
      "text/plain": [
       "(Random_real_repair(random, (),  val=0.5),\n",
       " Random_int_repair(randint, (1, 3),  val=2),\n",
       " Random_cat_repair(choice, ([0, 1],),  val=0))"
      ]
     },
     "execution_count": 8,
     "metadata": {},
     "output_type": "execute_result"
    }
   ],
   "source": [
    "# fine distributions\n",
    "dist1 = Random_real_repair(random.random, val = 0.5)\n",
    "dist2 = Random_int_repair(random.randint, 1, 3, val = 2)\n",
    "dist3 = Random_cat_repair(random.choice, [0,1], val = 0)\n",
    "dist1, dist2, dist3"
   ]
  },
  {
   "cell_type": "code",
   "execution_count": 9,
   "id": "ff6edccd",
   "metadata": {},
   "outputs": [
    {
     "data": {
      "text/plain": [
       "(Random_real_repair(random, (),  val=0.7),\n",
       " Random_int_repair(randint, (1, 3),  val=1),\n",
       " Random_cat_repair(choice, ([0, 1],),  val=1))"
      ]
     },
     "execution_count": 9,
     "metadata": {},
     "output_type": "execute_result"
    }
   ],
   "source": [
    "dist1_trace = Random_real_repair(random.random, val = 0.7)\n",
    "dist2_trace = Random_int_repair(random.randint, 1, 3, val = 1)\n",
    "dist3_trace = Random_cat_repair(random.choice, [0,1], val = 1)\n",
    "dist1_trace, dist2_trace, dist3_trace"
   ]
  },
  {
   "cell_type": "code",
   "execution_count": 10,
   "id": "fec4c395",
   "metadata": {},
   "outputs": [
    {
     "data": {
      "text/plain": [
       "(Random_real_repair(random, (),  val=0.9003416937269548),\n",
       " Random_int_repair(randint, (1, 3),  val=1),\n",
       " Random_cat_repair(choice, ([0, 1],),  val=0))"
      ]
     },
     "execution_count": 10,
     "metadata": {},
     "output_type": "execute_result"
    }
   ],
   "source": [
    "# test new repair mechanism with fine distribution\n",
    "# incompatible input distribution leads to resampling\n",
    "dist1.repair(None)\n",
    "dist2.repair(None)\n",
    "dist3.repair(None)\n",
    "dist1, dist2, dist3"
   ]
  },
  {
   "cell_type": "code",
   "execution_count": 11,
   "id": "bc6a559c",
   "metadata": {},
   "outputs": [
    {
     "data": {
      "text/plain": [
       "(Random_real_repair(random, (),  val=0.7),\n",
       " Random_int_repair(randint, (1, 3),  val=1),\n",
       " Random_cat_repair(choice, ([0, 1],),  val=1))"
      ]
     },
     "execution_count": 11,
     "metadata": {},
     "output_type": "execute_result"
    }
   ],
   "source": [
    "# test new repair mechanism with fine distribution\n",
    "# compatible input distribution leads to repairing (fine reparing = repair_val)\n",
    "dist1.repair(dist1_trace)\n",
    "dist2.repair(dist2_trace)\n",
    "dist3.repair(dist3_trace)\n",
    "dist1, dist2, dist3"
   ]
  }
 ],
 "metadata": {
  "kernelspec": {
   "display_name": "Python 3 (ipykernel)",
   "language": "python",
   "name": "python3"
  },
  "language_info": {
   "codemirror_mode": {
    "name": "ipython",
    "version": 3
   },
   "file_extension": ".py",
   "mimetype": "text/x-python",
   "name": "python",
   "nbconvert_exporter": "python",
   "pygments_lexer": "ipython3",
   "version": "3.11.7"
  }
 },
 "nbformat": 4,
 "nbformat_minor": 5
}
