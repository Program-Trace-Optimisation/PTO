{
 "cells": [
  {
   "cell_type": "markdown",
   "id": "a29a9275",
   "metadata": {},
   "source": [
    "# Tests for integer distributions"
   ]
  },
  {
   "cell_type": "code",
   "execution_count": 1,
   "id": "25450b71",
   "metadata": {},
   "outputs": [],
   "source": [
    "import random\n",
    "from pto.core.fine_distributions import supp, Random_int\n",
    "\n"
   ]
  },
  {
   "cell_type": "code",
   "execution_count": 2,
   "id": "19a9eb98",
   "metadata": {},
   "outputs": [
    {
     "data": {
      "text/plain": [
       "{<function Random.random()>: ('real',\n",
       "  <function pto.core.fine_distributions.supp.<lambda>(args)>),\n",
       " <bound method Random.uniform of <random.Random object at 0x15b065020>>: ('real',\n",
       "  <function pto.core.fine_distributions.supp.<lambda>(args)>),\n",
       " <bound method Random.triangular of <random.Random object at 0x15b065020>>: ('real',\n",
       "  <function pto.core.fine_distributions.supp.<lambda>(args)>),\n",
       " <bound method Random.betavariate of <random.Random object at 0x15b065020>>: ('real',\n",
       "  <function pto.core.fine_distributions.supp.<lambda>(args)>),\n",
       " <bound method Random.expovariate of <random.Random object at 0x15b065020>>: ('real',\n",
       "  <function pto.core.fine_distributions.supp.<lambda>(args)>),\n",
       " <bound method Random.gammavariate of <random.Random object at 0x15b065020>>: ('real',\n",
       "  <function pto.core.fine_distributions.supp.<lambda>(args)>),\n",
       " <bound method Random.gauss of <random.Random object at 0x15b065020>>: ('real',\n",
       "  <function pto.core.fine_distributions.supp.<lambda>(args)>),\n",
       " <bound method Random.lognormvariate of <random.Random object at 0x15b065020>>: ('real',\n",
       "  <function pto.core.fine_distributions.supp.<lambda>(args)>),\n",
       " <bound method Random.normalvariate of <random.Random object at 0x15b065020>>: ('real',\n",
       "  <function pto.core.fine_distributions.supp.<lambda>(args)>),\n",
       " <bound method Random.vonmisesvariate of <random.Random object at 0x15b065020>>: ('real',\n",
       "  <function pto.core.fine_distributions.supp.<lambda>(args)>),\n",
       " <bound method Random.paretovariate of <random.Random object at 0x15b065020>>: ('real',\n",
       "  <function pto.core.fine_distributions.supp.<lambda>(args)>),\n",
       " <bound method Random.weibullvariate of <random.Random object at 0x15b065020>>: ('real',\n",
       "  <function pto.core.fine_distributions.supp.<lambda>(args)>),\n",
       " <bound method Random.randrange of <random.Random object at 0x15b065020>>: ('int',\n",
       "  <function pto.core.fine_distributions.supp.<lambda>(args)>),\n",
       " <bound method Random.randint of <random.Random object at 0x15b065020>>: ('int',\n",
       "  <function pto.core.fine_distributions.supp.<lambda>(args)>),\n",
       " <bound method Random.choice of <random.Random object at 0x15b065020>>: ('cat',\n",
       "  <function pto.core.fine_distributions.supp.<lambda>(args)>)}"
      ]
     },
     "execution_count": 2,
     "metadata": {},
     "output_type": "execute_result"
    }
   ],
   "source": [
    "#test supp\n",
    "\n",
    "supp"
   ]
  },
  {
   "cell_type": "code",
   "execution_count": 3,
   "id": "71b896b1",
   "metadata": {},
   "outputs": [
    {
     "name": "stdout",
     "output_type": "stream",
     "text": [
      "randint 1 5 1\n",
      "randrange 1 4 1\n"
     ]
    }
   ],
   "source": [
    "# test __init__\n",
    "\n",
    "d = Random_int(random.randint, 1, 5)\n",
    "print(d.fun.__name__, d.min, d.max, d.step)\n",
    "\n",
    "\n",
    "d = Random_int(random.randrange, 1, 5)\n",
    "print(d.fun.__name__, d.min, d.max, d.step)\n",
    "\n"
   ]
  },
  {
   "cell_type": "code",
   "execution_count": 4,
   "id": "31ab1dd9",
   "metadata": {},
   "outputs": [
    {
     "name": "stdout",
     "output_type": "stream",
     "text": [
      "Random_int(randint, (1, 5),  val=-1)\n",
      "Random_int(randint, (1, 5),  val=5)\n"
     ]
    }
   ],
   "source": [
    "# test sample\n",
    "\n",
    "d = Random_int(random.randint, 1, 5, val = -1)\n",
    "print(d)\n",
    "d.sample()\n",
    "print(d)"
   ]
  },
  {
   "cell_type": "code",
   "execution_count": 5,
   "id": "f7f1b5e4",
   "metadata": {},
   "outputs": [
    {
     "name": "stdout",
     "output_type": "stream",
     "text": [
      "Random_int(randint, (1, 5),  val=-1)\n",
      "Random_int(randint, (1, 5),  val=1)\n"
     ]
    }
   ],
   "source": [
    "# test repair_val\n",
    "\n",
    "d = Random_int(random.randint, 1, 5, val = -1)\n",
    "print(d)\n",
    "d.repair_val()\n",
    "print(d)"
   ]
  },
  {
   "cell_type": "code",
   "execution_count": 6,
   "id": "bcbfeafb",
   "metadata": {},
   "outputs": [
    {
     "name": "stdout",
     "output_type": "stream",
     "text": [
      "Random_int(randint, (1, 5),  val=1)\n",
      "Random_int(randint, (1, 5),  val=2)\n"
     ]
    }
   ],
   "source": [
    "# test mutation\n",
    "\n",
    "d = Random_int(random.randint, 1, 5)\n",
    "d.sample()\n",
    "print(d)\n",
    "d1=d.mutation()\n",
    "print(d1)"
   ]
  },
  {
   "cell_type": "code",
   "execution_count": 7,
   "id": "7fe75fc0",
   "metadata": {},
   "outputs": [
    {
     "name": "stdout",
     "output_type": "stream",
     "text": [
      "Random_int(randint, (1, 5),  val=5) Random_int(randint, (1, 3),  val=2)\n",
      "Random_int(randint, (1, 5),  val=3)\n"
     ]
    }
   ],
   "source": [
    "# test crossover (blend)\n",
    "\n",
    "p1 = Random_int(random.randint, 1, 5)\n",
    "p1.sample()\n",
    "p2 = Random_int(random.randint, 1, 3)\n",
    "p2.sample()\n",
    "print(p1, p2)\n",
    "off=p1.crossover(p2)\n",
    "print(off)"
   ]
  },
  {
   "cell_type": "code",
   "execution_count": 9,
   "id": "97a8dcf2",
   "metadata": {},
   "outputs": [
    {
     "name": "stdout",
     "output_type": "stream",
     "text": [
      "Random_int(randint, (1, 5),  val=1) Random_real(random, (),  val=0.7501482571106901)\n",
      "Random_int(randint, (1, 5),  val=1)\n"
     ]
    }
   ],
   "source": [
    "# test crossover (mismatch --> discrete)\n",
    "\n",
    "from pto.core.fine_distributions import Random_real\n",
    "\n",
    "p1 = Random_int(random.randint, 1, 5)\n",
    "p1.sample()\n",
    "p2 = Random_real(random.random)\n",
    "p2.sample()\n",
    "print(p1, p2)\n",
    "off=p1.crossover(p2)\n",
    "print(off)"
   ]
  },
  {
   "cell_type": "code",
   "execution_count": null,
   "id": "b5caee6f",
   "metadata": {},
   "outputs": [],
   "source": []
  }
 ],
 "metadata": {
  "kernelspec": {
   "display_name": "Python 3 (ipykernel)",
   "language": "python",
   "name": "python3"
  },
  "language_info": {
   "codemirror_mode": {
    "name": "ipython",
    "version": 3
   },
   "file_extension": ".py",
   "mimetype": "text/x-python",
   "name": "python",
   "nbconvert_exporter": "python",
   "pygments_lexer": "ipython3",
   "version": "3.11.7"
  }
 },
 "nbformat": 4,
 "nbformat_minor": 5
}
