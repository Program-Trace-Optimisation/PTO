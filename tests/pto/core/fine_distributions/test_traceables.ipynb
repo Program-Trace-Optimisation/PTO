{
 "cells": [
  {
   "cell_type": "markdown",
   "id": "39477f42",
   "metadata": {},
   "source": [
    "# Tests for Traceables"
   ]
  },
  {
   "cell_type": "code",
   "execution_count": 1,
   "id": "724e370a",
   "metadata": {},
   "outputs": [],
   "source": [
    "from pto.core.fine_distributions import rnd"
   ]
  },
  {
   "cell_type": "code",
   "execution_count": 2,
   "id": "467b65d5",
   "metadata": {},
   "outputs": [
    {
     "name": "stdout",
     "output_type": "stream",
     "text": [
      "repair\n",
      "coarse\n",
      "fine\n",
      "repair\n"
     ]
    },
    {
     "ename": "ValueError",
     "evalue": "Invalid dist_type: xyz. Must be one of ['coarse', 'fine', 'repair']",
     "output_type": "error",
     "traceback": [
      "\u001b[0;31m---------------------------------------------------------------------------\u001b[0m",
      "\u001b[0;31mValueError\u001b[0m                                Traceback (most recent call last)",
      "Cell \u001b[0;32mIn[2], line 10\u001b[0m\n\u001b[1;32m      8\u001b[0m rnd\u001b[38;5;241m.\u001b[39mconfig(\u001b[38;5;124m'\u001b[39m\u001b[38;5;124mrepair\u001b[39m\u001b[38;5;124m'\u001b[39m)\n\u001b[1;32m      9\u001b[0m \u001b[38;5;28mprint\u001b[39m(rnd\u001b[38;5;241m.\u001b[39mconfig())\n\u001b[0;32m---> 10\u001b[0m rnd\u001b[38;5;241m.\u001b[39mconfig(\u001b[38;5;124m'\u001b[39m\u001b[38;5;124mxyz\u001b[39m\u001b[38;5;124m'\u001b[39m)\n",
      "File \u001b[0;32m~/Library/CloudStorage/OneDrive-NationalUniversityofIreland,Galway/PTO/PTO-2024d/pto/core/fine_distributions/traceables.py:38\u001b[0m, in \u001b[0;36mRandomTraceable.config\u001b[0;34m(self, dist_type)\u001b[0m\n\u001b[1;32m     36\u001b[0m \u001b[38;5;66;03m# validate dist_type\u001b[39;00m\n\u001b[1;32m     37\u001b[0m \u001b[38;5;28;01mif\u001b[39;00m dist_type \u001b[38;5;129;01mnot\u001b[39;00m \u001b[38;5;129;01min\u001b[39;00m \u001b[38;5;28mself\u001b[39m\u001b[38;5;241m.\u001b[39mcls_map:\n\u001b[0;32m---> 38\u001b[0m     \u001b[38;5;28;01mraise\u001b[39;00m \u001b[38;5;167;01mValueError\u001b[39;00m(\u001b[38;5;124mf\u001b[39m\u001b[38;5;124m\"\u001b[39m\u001b[38;5;124mInvalid dist_type: \u001b[39m\u001b[38;5;132;01m{\u001b[39;00mdist_type\u001b[38;5;132;01m}\u001b[39;00m\u001b[38;5;124m. Must be one of \u001b[39m\u001b[38;5;132;01m{\u001b[39;00m\u001b[38;5;28mlist\u001b[39m(\u001b[38;5;28mself\u001b[39m\u001b[38;5;241m.\u001b[39mcls_map\u001b[38;5;241m.\u001b[39mkeys())\u001b[38;5;132;01m}\u001b[39;00m\u001b[38;5;124m\"\u001b[39m)\n\u001b[1;32m     40\u001b[0m \u001b[38;5;66;03m# store config mode\u001b[39;00m\n\u001b[1;32m     41\u001b[0m \u001b[38;5;28mself\u001b[39m\u001b[38;5;241m.\u001b[39mdist_type \u001b[38;5;241m=\u001b[39m dist_type\n",
      "\u001b[0;31mValueError\u001b[0m: Invalid dist_type: xyz. Must be one of ['coarse', 'fine', 'repair']"
     ]
    }
   ],
   "source": [
    "# check config\n",
    "\n",
    "print(rnd.config())\n",
    "rnd.config('coarse')\n",
    "print(rnd.config())\n",
    "rnd.config('fine')\n",
    "print(rnd.config())\n",
    "rnd.config('repair')\n",
    "print(rnd.config())\n",
    "rnd.config('xyz') # produces an error"
   ]
  },
  {
   "cell_type": "code",
   "execution_count": 4,
   "id": "51976131-477a-4dd4-8626-855ad4ffb499",
   "metadata": {},
   "outputs": [
    {
     "name": "stdout",
     "output_type": "stream",
     "text": [
      "coarse\n",
      "repair\n"
     ]
    }
   ],
   "source": [
    "from pto.core.fine_distributions import RandomTraceable\n",
    "rnd = RandomTraceable(dist_type='coarse')\n",
    "print(rnd.config())\n",
    "rnd.config('repair')\n",
    "print(rnd.config())"
   ]
  },
  {
   "cell_type": "code",
   "execution_count": 5,
   "id": "66c07d13-f5f8-49f1-abbd-7d8cb2ff937f",
   "metadata": {},
   "outputs": [
    {
     "data": {
      "text/plain": [
       "'repair'"
      ]
     },
     "execution_count": 5,
     "metadata": {},
     "output_type": "execute_result"
    }
   ],
   "source": [
    "rnd.config()"
   ]
  },
  {
   "cell_type": "code",
   "execution_count": 7,
   "id": "7b822147",
   "metadata": {},
   "outputs": [
    {
     "data": {
      "text/plain": [
       "'Supported traceable random primitives: '"
      ]
     },
     "metadata": {},
     "output_type": "display_data"
    },
    {
     "data": {
      "text/plain": [
       "['random',\n",
       " 'uniform',\n",
       " 'triangular',\n",
       " 'betavariate',\n",
       " 'expovariate',\n",
       " 'gammavariate',\n",
       " 'gauss',\n",
       " 'lognormvariate',\n",
       " 'normalvariate',\n",
       " 'vonmisesvariate',\n",
       " 'paretovariate',\n",
       " 'weibullvariate',\n",
       " 'randrange',\n",
       " 'randint',\n",
       " 'choice']"
      ]
     },
     "metadata": {},
     "output_type": "display_data"
    },
    {
     "data": {
      "text/plain": [
       "'Class of finely traceable random primitives: '"
      ]
     },
     "metadata": {},
     "output_type": "display_data"
    },
    {
     "data": {
      "text/plain": [
       "[('random', 'real'),\n",
       " ('uniform', 'real'),\n",
       " ('triangular', 'real'),\n",
       " ('betavariate', 'real'),\n",
       " ('expovariate', 'real'),\n",
       " ('gammavariate', 'real'),\n",
       " ('gauss', 'real'),\n",
       " ('lognormvariate', 'real'),\n",
       " ('normalvariate', 'real'),\n",
       " ('vonmisesvariate', 'real'),\n",
       " ('paretovariate', 'real'),\n",
       " ('weibullvariate', 'real'),\n",
       " ('randrange', 'int'),\n",
       " ('randint', 'int'),\n",
       " ('choice', 'cat')]"
      ]
     },
     "metadata": {},
     "output_type": "display_data"
    }
   ],
   "source": [
    "# traceable functions\n",
    "\n",
    "from IPython.display import display\n",
    "from pto.core.fine_distributions import rnd, supp\n",
    "\n",
    "display(\"Supported traceable random primitives: \", [fun.__name__ for fun in supp.keys()])\n",
    "display(\"Class of finely traceable random primitives: \", [(fun.__name__, supp[fun][0]) for fun in supp.keys()])"
   ]
  },
  {
   "cell_type": "code",
   "execution_count": 8,
   "id": "08a4930e",
   "metadata": {},
   "outputs": [
    {
     "name": "stdout",
     "output_type": "stream",
     "text": [
      "<built-in method random of Random object at 0x11f829620>\n",
      "<bound method Random.uniform of <random.Random object at 0x11f829620>>\n",
      "<bound method Random.triangular of <random.Random object at 0x11f829620>>\n",
      "<bound method Random.betavariate of <random.Random object at 0x11f829620>>\n",
      "<bound method Random.expovariate of <random.Random object at 0x11f829620>>\n",
      "<bound method Random.gammavariate of <random.Random object at 0x11f829620>>\n",
      "<bound method Random.gauss of <random.Random object at 0x11f829620>>\n",
      "<bound method Random.lognormvariate of <random.Random object at 0x11f829620>>\n",
      "<bound method Random.normalvariate of <random.Random object at 0x11f829620>>\n",
      "<bound method Random.vonmisesvariate of <random.Random object at 0x11f829620>>\n",
      "<bound method Random.paretovariate of <random.Random object at 0x11f829620>>\n",
      "<bound method Random.weibullvariate of <random.Random object at 0x11f829620>>\n",
      "<bound method Random.randrange of <random.Random object at 0x11f829620>>\n",
      "<bound method Random.randint of <random.Random object at 0x11f829620>>\n",
      "<bound method Random.choice of <random.Random object at 0x11f829620>>\n"
     ]
    }
   ],
   "source": [
    "# traced functions\n",
    "\n",
    "for fun in supp:\n",
    "   print(getattr(rnd, fun.__name__).__wrapped__) "
   ]
  },
  {
   "cell_type": "code",
   "execution_count": 9,
   "id": "e872a870",
   "metadata": {},
   "outputs": [
    {
     "data": {
      "text/plain": [
       "(0.27803930153475176, 1, 'c')"
      ]
     },
     "execution_count": 9,
     "metadata": {},
     "output_type": "execute_result"
    }
   ],
   "source": [
    "# traceables have the same arguments of the original random primitives plus the 'name' key argumnet\n",
    "\n",
    "rnd.random(name = 'pos1'), rnd.randint(1, 3, name = 'pos2'), rnd.choice(['a','b','c'], name = 'pos3')  "
   ]
  },
  {
   "cell_type": "code",
   "execution_count": 10,
   "id": "7b3af2dc",
   "metadata": {},
   "outputs": [
    {
     "data": {
      "text/plain": [
       "'repair'"
      ]
     },
     "execution_count": 10,
     "metadata": {},
     "output_type": "execute_result"
    }
   ],
   "source": [
    "rnd.config()"
   ]
  },
  {
   "cell_type": "code",
   "execution_count": 11,
   "id": "e9793159",
   "metadata": {},
   "outputs": [],
   "source": [
    "rnd.config('coarse')"
   ]
  },
  {
   "cell_type": "code",
   "execution_count": 12,
   "id": "4e974dec",
   "metadata": {},
   "outputs": [
    {
     "data": {
      "text/plain": [
       "(0.692948925317161, 2, 'b')"
      ]
     },
     "execution_count": 12,
     "metadata": {},
     "output_type": "execute_result"
    }
   ],
   "source": [
    "# traceables have the same arguments of the original random primitives plus the 'name' key argumnet\n",
    "\n",
    "rnd.random(name = 'pos1'), rnd.randint(1, 3, name = 'pos2'), rnd.choice(['a','b','c'], name = 'pos3') "
   ]
  },
  {
   "cell_type": "code",
   "execution_count": null,
   "id": "89f6a8ec",
   "metadata": {},
   "outputs": [],
   "source": []
  }
 ],
 "metadata": {
  "kernelspec": {
   "display_name": "Python 3 (ipykernel)",
   "language": "python",
   "name": "python3"
  },
  "language_info": {
   "codemirror_mode": {
    "name": "ipython",
    "version": 3
   },
   "file_extension": ".py",
   "mimetype": "text/x-python",
   "name": "python",
   "nbconvert_exporter": "python",
   "pygments_lexer": "ipython3",
   "version": "3.11.7"
  }
 },
 "nbformat": 4,
 "nbformat_minor": 5
}
