{
 "cells": [
  {
   "cell_type": "markdown",
   "id": "83a6bd39",
   "metadata": {},
   "source": [
    "# Tests for categorical distributions"
   ]
  },
  {
   "cell_type": "code",
   "execution_count": 1,
   "id": "719358f5",
   "metadata": {},
   "outputs": [],
   "source": [
    "import random\n",
    "from pto.core.fine_distributions import supp, Random_cat\n",
    "\n"
   ]
  },
  {
   "cell_type": "code",
   "execution_count": 2,
   "id": "8ae4f910",
   "metadata": {},
   "outputs": [
    {
     "data": {
      "text/plain": [
       "{<function Random.random()>: ('real',\n",
       "  <function pto.core.fine_distributions.supp.<lambda>(args)>),\n",
       " <bound method Random.uniform of <random.Random object at 0x146021a20>>: ('real',\n",
       "  <function pto.core.fine_distributions.supp.<lambda>(args)>),\n",
       " <bound method Random.triangular of <random.Random object at 0x146021a20>>: ('real',\n",
       "  <function pto.core.fine_distributions.supp.<lambda>(args)>),\n",
       " <bound method Random.betavariate of <random.Random object at 0x146021a20>>: ('real',\n",
       "  <function pto.core.fine_distributions.supp.<lambda>(args)>),\n",
       " <bound method Random.expovariate of <random.Random object at 0x146021a20>>: ('real',\n",
       "  <function pto.core.fine_distributions.supp.<lambda>(args)>),\n",
       " <bound method Random.gammavariate of <random.Random object at 0x146021a20>>: ('real',\n",
       "  <function pto.core.fine_distributions.supp.<lambda>(args)>),\n",
       " <bound method Random.gauss of <random.Random object at 0x146021a20>>: ('real',\n",
       "  <function pto.core.fine_distributions.supp.<lambda>(args)>),\n",
       " <bound method Random.lognormvariate of <random.Random object at 0x146021a20>>: ('real',\n",
       "  <function pto.core.fine_distributions.supp.<lambda>(args)>),\n",
       " <bound method Random.normalvariate of <random.Random object at 0x146021a20>>: ('real',\n",
       "  <function pto.core.fine_distributions.supp.<lambda>(args)>),\n",
       " <bound method Random.vonmisesvariate of <random.Random object at 0x146021a20>>: ('real',\n",
       "  <function pto.core.fine_distributions.supp.<lambda>(args)>),\n",
       " <bound method Random.paretovariate of <random.Random object at 0x146021a20>>: ('real',\n",
       "  <function pto.core.fine_distributions.supp.<lambda>(args)>),\n",
       " <bound method Random.weibullvariate of <random.Random object at 0x146021a20>>: ('real',\n",
       "  <function pto.core.fine_distributions.supp.<lambda>(args)>),\n",
       " <bound method Random.randrange of <random.Random object at 0x146021a20>>: ('int',\n",
       "  <function pto.core.fine_distributions.supp.<lambda>(args)>),\n",
       " <bound method Random.randint of <random.Random object at 0x146021a20>>: ('int',\n",
       "  <function pto.core.fine_distributions.supp.<lambda>(args)>),\n",
       " <bound method Random.choice of <random.Random object at 0x146021a20>>: ('cat',\n",
       "  <function pto.core.fine_distributions.supp.<lambda>(args)>)}"
      ]
     },
     "execution_count": 2,
     "metadata": {},
     "output_type": "execute_result"
    }
   ],
   "source": [
    "#test supp\n",
    "\n",
    "supp"
   ]
  },
  {
   "cell_type": "code",
   "execution_count": 3,
   "id": "09618f31",
   "metadata": {},
   "outputs": [
    {
     "name": "stdout",
     "output_type": "stream",
     "text": [
      "choice ['a', 'b', 'c']\n"
     ]
    }
   ],
   "source": [
    "# test __init__\n",
    "\n",
    "d = Random_cat(random.choice, ['a', 'b', 'c'])\n",
    "print(d.fun.__name__, d.seq)\n"
   ]
  },
  {
   "cell_type": "code",
   "execution_count": 4,
   "id": "2afdcda7",
   "metadata": {},
   "outputs": [
    {
     "name": "stdout",
     "output_type": "stream",
     "text": [
      "Random_cat(choice, (['a', 'b', 'c'],),  val=None)\n",
      "Random_cat(choice, (['a', 'b', 'c'],),  val=a)\n"
     ]
    }
   ],
   "source": [
    "# test sample\n",
    "\n",
    "d = Random_cat(random.choice, ['a', 'b', 'c'])\n",
    "print(d)\n",
    "d.sample()\n",
    "print(d)"
   ]
  },
  {
   "cell_type": "code",
   "execution_count": 5,
   "id": "27f835ef",
   "metadata": {},
   "outputs": [
    {
     "name": "stdout",
     "output_type": "stream",
     "text": [
      "Random_cat(choice, (['a', 'b', 'c'],),  val=d)\n",
      "Random_cat(choice, (['a', 'b', 'c'],),  val=a)\n"
     ]
    }
   ],
   "source": [
    "# test repair_val\n",
    "\n",
    "d = Random_cat(random.choice, ['a', 'b', 'c'], val = 'd')\n",
    "print(d)\n",
    "d.repair_val()\n",
    "print(d)"
   ]
  },
  {
   "cell_type": "code",
   "execution_count": 6,
   "id": "e19b5857",
   "metadata": {},
   "outputs": [
    {
     "name": "stdout",
     "output_type": "stream",
     "text": [
      "Random_cat(choice, (['a', 'b', 'c'],),  val=a)\n",
      "Random_cat(choice, (['a', 'b', 'c'],),  val=c)\n"
     ]
    }
   ],
   "source": [
    "# test mutation\n",
    "\n",
    "d = Random_cat(random.choice, ['a', 'b', 'c'])\n",
    "d.sample()\n",
    "print(d)\n",
    "d1=d.mutation()\n",
    "print(d1)"
   ]
  },
  {
   "cell_type": "code",
   "execution_count": 7,
   "id": "95c46618",
   "metadata": {},
   "outputs": [
    {
     "name": "stdout",
     "output_type": "stream",
     "text": [
      "Random_cat(choice, (['a', 'b', 'c'],),  val=c) Random_cat(choice, (['a', 'b', 'c'],),  val=c)\n",
      "Random_cat(choice, (['a', 'b', 'c'],),  val=c)\n"
     ]
    }
   ],
   "source": [
    "# test crossover (same for mismatch and discrete)\n",
    "\n",
    "p1 = Random_cat(random.choice, ['a', 'b', 'c'])\n",
    "p1.sample()\n",
    "p2 = Random_cat(random.choice, ['a', 'b', 'c'])\n",
    "p2.sample()\n",
    "print(p1, p2)\n",
    "off=p1.crossover(p2)\n",
    "print(off)"
   ]
  }
 ],
 "metadata": {
  "kernelspec": {
   "display_name": "Python 3 (ipykernel)",
   "language": "python",
   "name": "python3"
  },
  "language_info": {
   "codemirror_mode": {
    "name": "ipython",
    "version": 3
   },
   "file_extension": ".py",
   "mimetype": "text/x-python",
   "name": "python",
   "nbconvert_exporter": "python",
   "pygments_lexer": "ipython3",
   "version": "3.11.7"
  }
 },
 "nbformat": 4,
 "nbformat_minor": 5
}
