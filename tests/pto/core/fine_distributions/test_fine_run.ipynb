{
 "cells": [
  {
   "cell_type": "markdown",
   "id": "019f8ef5",
   "metadata": {},
   "source": [
    "# Tests for fine_run and config"
   ]
  },
  {
   "cell_type": "code",
   "execution_count": 9,
   "id": "3315ba95",
   "metadata": {},
   "outputs": [
    {
     "data": {
      "text/plain": [
       "'repair'"
      ]
     },
     "execution_count": 9,
     "metadata": {},
     "output_type": "execute_result"
    }
   ],
   "source": [
    "\n",
    "from pto.core.fine_distributions import run, rnd\n",
    "rnd.config()"
   ]
  },
  {
   "cell_type": "code",
   "execution_count": 10,
   "id": "10baa52a",
   "metadata": {},
   "outputs": [
    {
     "data": {
      "text/plain": [
       "['__class__',\n",
       " '__delattr__',\n",
       " '__dict__',\n",
       " '__dir__',\n",
       " '__doc__',\n",
       " '__eq__',\n",
       " '__format__',\n",
       " '__ge__',\n",
       " '__getattribute__',\n",
       " '__getstate__',\n",
       " '__gt__',\n",
       " '__hash__',\n",
       " '__init__',\n",
       " '__init_subclass__',\n",
       " '__le__',\n",
       " '__lt__',\n",
       " '__module__',\n",
       " '__ne__',\n",
       " '__new__',\n",
       " '__reduce__',\n",
       " '__reduce_ex__',\n",
       " '__repr__',\n",
       " '__setattr__',\n",
       " '__sizeof__',\n",
       " '__str__',\n",
       " '__subclasshook__',\n",
       " '__weakref__',\n",
       " 'crossover',\n",
       " 'mutation',\n",
       " 'repair',\n",
       " 'sample']"
      ]
     },
     "execution_count": 10,
     "metadata": {},
     "output_type": "execute_result"
    }
   ],
   "source": [
    "# check that trace recycle monkey patch was applied (so if 'repair_val' listed)\n",
    "from pto.core.base import Dist\n",
    "dir(Dist)"
   ]
  },
  {
   "cell_type": "code",
   "execution_count": 11,
   "id": "b7eff6e5",
   "metadata": {},
   "outputs": [],
   "source": [
    "def random_program():\n",
    "    return([rnd.random(name='pos 1'),\n",
    "            rnd.choice(['a','b','c'], name='pos 2'),\n",
    "            rnd.randint(1, 10, name='pos 3')])\n",
    "\n",
    "def fitness(sol): return sol[0]"
   ]
  },
  {
   "cell_type": "code",
   "execution_count": 12,
   "id": "91c9751b",
   "metadata": {},
   "outputs": [
    {
     "data": {
      "text/plain": [
       "'repair'"
      ]
     },
     "execution_count": 12,
     "metadata": {},
     "output_type": "execute_result"
    }
   ],
   "source": [
    "rnd.config()"
   ]
  },
  {
   "cell_type": "code",
   "execution_count": 13,
   "id": "69712e2a",
   "metadata": {},
   "outputs": [
    {
     "data": {
      "text/plain": [
       "(Sol(pheno=[1, 'b', 2], geno={'pos 1': Random_real_repair(random, (),  val=1), 'pos 2': Random_cat_repair(choice, (['a', 'b', 'c'],),  val=b), 'pos 3': Random_int_repair(randint, (1, 10),  val=2)}),\n",
       " 1)"
      ]
     },
     "execution_count": 13,
     "metadata": {},
     "output_type": "execute_result"
    }
   ],
   "source": [
    "run(random_program, fitness)"
   ]
  },
  {
   "cell_type": "code",
   "execution_count": 14,
   "id": "8bd5ee53",
   "metadata": {},
   "outputs": [
    {
     "data": {
      "text/plain": [
       "(Sol(pheno=[0.9951729722647046, 'c', 10], geno={'pos 1': Dist(random, (),  val=0.9951729722647046), 'pos 2': Dist(choice, (['a', 'b', 'c'],),  val=c), 'pos 3': Dist(randint, (1, 10),  val=10)}),\n",
       " 0.9951729722647046)"
      ]
     },
     "execution_count": 14,
     "metadata": {},
     "output_type": "execute_result"
    }
   ],
   "source": [
    "run(random_program, fitness, dist_type = 'coarse')"
   ]
  },
  {
   "cell_type": "code",
   "execution_count": 15,
   "id": "8b220f3c",
   "metadata": {},
   "outputs": [
    {
     "data": {
      "text/plain": [
       "'coarse'"
      ]
     },
     "execution_count": 15,
     "metadata": {},
     "output_type": "execute_result"
    }
   ],
   "source": [
    "rnd.config()"
   ]
  },
  {
   "cell_type": "code",
   "execution_count": 16,
   "id": "2e193342",
   "metadata": {},
   "outputs": [
    {
     "data": {
      "text/plain": [
       "<bound method FineRunner.run of <class 'pto.core.fine_distributions.run.FineRunner'>>"
      ]
     },
     "execution_count": 16,
     "metadata": {},
     "output_type": "execute_result"
    }
   ],
   "source": [
    "run"
   ]
  }
 ],
 "metadata": {
  "kernelspec": {
   "display_name": "Python 3 (ipykernel)",
   "language": "python",
   "name": "python3"
  },
  "language_info": {
   "codemirror_mode": {
    "name": "ipython",
    "version": 3
   },
   "file_extension": ".py",
   "mimetype": "text/x-python",
   "name": "python",
   "nbconvert_exporter": "python",
   "pygments_lexer": "ipython3",
   "version": "3.11.7"
  }
 },
 "nbformat": 4,
 "nbformat_minor": 5
}
