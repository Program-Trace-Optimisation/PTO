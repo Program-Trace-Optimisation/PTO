{
 "cells": [
  {
   "cell_type": "markdown",
   "id": "046de8ec",
   "metadata": {},
   "source": [
    "# Tests for distribution"
   ]
  },
  {
   "cell_type": "code",
   "execution_count": 3,
   "id": "d68ae6f0",
   "metadata": {},
   "outputs": [],
   "source": [
    "import random\n",
    "from pto.core.base import Dist\n"
   ]
  },
  {
   "cell_type": "code",
   "execution_count": 4,
   "id": "9c868923",
   "metadata": {},
   "outputs": [
    {
     "data": {
      "text/plain": [
       "(Dist(random, (),  val=0.5),\n",
       " Dist(randint, (1, 3),  val=2),\n",
       " Dist(choice, ([0, 1],),  val=None))"
      ]
     },
     "execution_count": 4,
     "metadata": {},
     "output_type": "execute_result"
    }
   ],
   "source": [
    "# test __init__\n",
    "dist1 = Dist(random.random, val = 0.5)\n",
    "dist2 = Dist(random.randint, 1, 3, val = 2)\n",
    "dist3 = Dist(random.choice, [0,1])\n",
    "dist1, dist2, dist3"
   ]
  },
  {
   "cell_type": "code",
   "execution_count": 5,
   "id": "6c7ebf3d",
   "metadata": {},
   "outputs": [
    {
     "data": {
      "text/plain": [
       "(Dist(random, (),  val=0.08402412245344737),\n",
       " Dist(randint, (1, 3),  val=3),\n",
       " Dist(choice, ([0, 1],),  val=1))"
      ]
     },
     "execution_count": 5,
     "metadata": {},
     "output_type": "execute_result"
    }
   ],
   "source": [
    "# test sample\n",
    "dist1.sample()\n",
    "dist2.sample()\n",
    "dist3.sample()\n",
    "dist1, dist2, dist3"
   ]
  },
  {
   "cell_type": "code",
   "execution_count": 6,
   "id": "a6e5ac16",
   "metadata": {},
   "outputs": [
    {
     "data": {
      "text/plain": [
       "(Dist(random, (),  val=0.8117731969443666),\n",
       " Dist(randint, (1, 3),  val=3),\n",
       " Dist(choice, ([0, 1],),  val=0))"
      ]
     },
     "execution_count": 6,
     "metadata": {},
     "output_type": "execute_result"
    }
   ],
   "source": [
    "# test repair (= sample)\n",
    "dist1.repair(None)\n",
    "dist2.repair(None)\n",
    "dist3.repair(None)\n",
    "dist1, dist2, dist3"
   ]
  },
  {
   "cell_type": "code",
   "execution_count": 7,
   "id": "23c94e85",
   "metadata": {},
   "outputs": [
    {
     "name": "stdout",
     "output_type": "stream",
     "text": [
      "Dist(random, (),  val=0.3380803891302835)\n",
      "False\n",
      "Dist(randint, (1, 3),  val=2)\n",
      "False\n",
      "Dist(choice, ([0, 1],),  val=0)\n",
      "False\n"
     ]
    },
    {
     "data": {
      "text/plain": [
       "(Dist(random, (),  val=0.8117731969443666),\n",
       " Dist(randint, (1, 3),  val=3),\n",
       " Dist(choice, ([0, 1],),  val=0))"
      ]
     },
     "execution_count": 7,
     "metadata": {},
     "output_type": "execute_result"
    }
   ],
   "source": [
    "# test mutation \n",
    "dist = dist1.mutation()\n",
    "print(dist)\n",
    "print(dist is dist1) # assert False (a copy of the object is mutated and returned)\n",
    "dist = dist2.mutation()\n",
    "print(dist)\n",
    "print(dist is dist2) # assert False\n",
    "dist = dist3.mutation()\n",
    "print(dist)\n",
    "print(dist is dist3) # assert False\n",
    "dist1, dist2, dist3"
   ]
  },
  {
   "cell_type": "code",
   "execution_count": 8,
   "id": "8236dba7",
   "metadata": {},
   "outputs": [
    {
     "name": "stdout",
     "output_type": "stream",
     "text": [
      "True\n",
      "False\n"
     ]
    },
    {
     "data": {
      "text/plain": [
       "(Dist(random, (),  val=0.8117731969443666),\n",
       " Dist(randint, (1, 3),  val=3),\n",
       " Dist(randint, (1, 3),  val=3))"
      ]
     },
     "execution_count": 8,
     "metadata": {},
     "output_type": "execute_result"
    }
   ],
   "source": [
    "# test crossover\n",
    "dist = dist1.crossover(dist2)\n",
    "print(dist is dist1 or dist is dist2) # assert True\n",
    "print(dist is dist1) # can be True or False (crossover does not change dist1 or dist2)\n",
    "dist1, dist2, dist"
   ]
  }
 ],
 "metadata": {
  "kernelspec": {
   "display_name": "Python 3 (ipykernel)",
   "language": "python",
   "name": "python3"
  },
  "language_info": {
   "codemirror_mode": {
    "name": "ipython",
    "version": 3
   },
   "file_extension": ".py",
   "mimetype": "text/x-python",
   "name": "python",
   "nbconvert_exporter": "python",
   "pygments_lexer": "ipython3",
   "version": "3.11.7"
  }
 },
 "nbformat": 4,
 "nbformat_minor": 5
}
