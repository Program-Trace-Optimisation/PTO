{
 "cells": [
  {
   "cell_type": "markdown",
   "id": "8cff58da",
   "metadata": {},
   "source": [
    "# Tests for tracer "
   ]
  },
  {
   "cell_type": "code",
   "execution_count": 1,
   "id": "e3f44411",
   "metadata": {},
   "outputs": [],
   "source": [
    "import random\n",
    "from pto.core.base import tracer, Dist"
   ]
  },
  {
   "cell_type": "code",
   "execution_count": 2,
   "id": "51897c7c",
   "metadata": {},
   "outputs": [
    {
     "name": "stdout",
     "output_type": "stream",
     "text": [
      "CREATE TRACE\n",
      "CALL 1:  0.7396417511569042\n",
      "CALL 2:  b\n",
      "CALL 3:  7\n",
      "{'pos 1': Dist(random, (),  val=0.7396417511569042), 'pos 2': Dist(choice, (['a', 'b', 'c'],),  val=b), 'pos 3': Dist(randint, (1, 10),  val=7)} \n",
      "\n",
      "RE-PLAY TRACE\n",
      "CALL 1:  0.7396417511569042\n",
      "CALL 2:  b\n",
      "CALL 3:  7\n",
      "\n",
      "CHANGE AND FIX TRACE\n",
      "{'pos 1': Dist(randint, (1, 3),  val=2), 'pos 2': Dist(choice, (['a', 'b', 'c'],),  val=b), 'pos 3': Dist(randint, (1, 10),  val=7)} \n",
      "\n",
      "repair:  ('randint', (1, 3)) ('random', ())\n",
      "CALL 1:  0.7760260217088009\n",
      "CALL 2:  b\n",
      "CALL 3:  7\n",
      "{'pos 1': Dist(random, (),  val=0.7760260217088009), 'pos 2': Dist(choice, (['a', 'b', 'c'],),  val=b), 'pos 3': Dist(randint, (1, 10),  val=7)} \n",
      "\n"
     ]
    }
   ],
   "source": [
    "# Test tracing\n",
    "\n",
    "# import Dist\n",
    "\n",
    "''' This shows that successive calls to sample of random primitives are stored sequentially in the trace. '''\n",
    "\n",
    "def random_program():\n",
    "    print('CALL 1: ', tracer.sample('pos 1', Dist(random.random)))\n",
    "    print('CALL 2: ', tracer.sample('pos 2', Dist(random.choice, ['a','b','c'])))\n",
    "    print('CALL 3: ', tracer.sample('pos 3', Dist(random.randint, 1, 10)))\n",
    "    \n",
    "# create trace\n",
    "''' Running the random program with an empty trace creates a new trace '''\n",
    "print(\"CREATE TRACE\")\n",
    "trace = {}\n",
    "tracer.play(random_program, trace)\n",
    "print(tracer.TRACE,'\\n')\n",
    "\n",
    "# re-play trace\n",
    "''' Rewinding the trace and rerunning the random program use the trace to produce the same program output '''\n",
    "print(\"RE-PLAY TRACE\")\n",
    "tracer.play(random_program, trace)\n",
    "print()\n",
    "\n",
    "# change and fix trace\n",
    "''' Altering the trace with an annotation inconsistent with the random calls and replaying it fix the trace '''\n",
    "print(\"CHANGE AND FIX TRACE\")\n",
    "trace['pos 1'] = Dist(random.randint, 1, 3, val = 2)\n",
    "print(trace,'\\n')\n",
    "\n",
    "tracer.play(random_program, trace)\n",
    "print(trace,'\\n')"
   ]
  },
  {
   "cell_type": "code",
   "execution_count": 3,
   "id": "14e0b5b9",
   "metadata": {},
   "outputs": [
    {
     "name": "stdout",
     "output_type": "stream",
     "text": [
      "{'pos 1': Dist(random, (),  val=0.7760260217088009), 'pos 2': Dist(choice, (['a', 'b', 'c'],),  val=b), 'pos 3': Dist(randint, (1, 10),  val=7)} \n",
      "\n",
      "CALL 1:  0.6342729432694968\n",
      "CALL 2:  c\n",
      "CALL 3:  8\n",
      "{'pos 1': Dist(random, (),  val=0.7760260217088009), 'pos 2': Dist(choice, (['a', 'b', 'c'],),  val=b), 'pos 3': Dist(randint, (1, 10),  val=7)} \n",
      "\n",
      "CALL 1:  0.7760260217088009\n"
     ]
    },
    {
     "ename": "AssertionError",
     "evalue": "PTO ERROR: NAME 'pos 1' IN TRACE NOT UNIQUE",
     "output_type": "error",
     "traceback": [
      "\u001b[0;31m---------------------------------------------------------------------------\u001b[0m",
      "\u001b[0;31mAssertionError\u001b[0m                            Traceback (most recent call last)",
      "Cell \u001b[0;32mIn[3], line 14\u001b[0m\n\u001b[1;32m     12\u001b[0m \u001b[38;5;66;03m# run program with tracing (check on names)    \u001b[39;00m\n\u001b[1;32m     13\u001b[0m \u001b[38;5;28mprint\u001b[39m(tracer\u001b[38;5;241m.\u001b[39mTRACE,\u001b[38;5;124m'\u001b[39m\u001b[38;5;130;01m\\n\u001b[39;00m\u001b[38;5;124m'\u001b[39m)\n\u001b[0;32m---> 14\u001b[0m tracer\u001b[38;5;241m.\u001b[39mplay(random_program, tracer\u001b[38;5;241m.\u001b[39mTRACE)\n",
      "File \u001b[0;32m~/Library/CloudStorage/OneDrive-NationalUniversityofIreland,Galway/PTO/PTO-2024d/pto/core/base/tracer.py:47\u001b[0m, in \u001b[0;36mTracer.play\u001b[0;34m(self, gen, trace)\u001b[0m\n\u001b[1;32m     44\u001b[0m \u001b[38;5;28mself\u001b[39m\u001b[38;5;241m.\u001b[39mUSED_NAMES \u001b[38;5;241m=\u001b[39m \u001b[38;5;28mset\u001b[39m()\n\u001b[1;32m     46\u001b[0m \u001b[38;5;66;03m# generate a solution\u001b[39;00m\n\u001b[0;32m---> 47\u001b[0m sol \u001b[38;5;241m=\u001b[39m gen() \u001b[38;5;66;03m# this position appears in the trace!\u001b[39;00m\n\u001b[1;32m     49\u001b[0m \u001b[38;5;66;03m# clean up unused trace entries\u001b[39;00m\n\u001b[1;32m     50\u001b[0m unused_names \u001b[38;5;241m=\u001b[39m \u001b[38;5;28mset\u001b[39m(\u001b[38;5;28mself\u001b[39m\u001b[38;5;241m.\u001b[39mTRACE\u001b[38;5;241m.\u001b[39mkeys()) \u001b[38;5;241m-\u001b[39m \u001b[38;5;28mself\u001b[39m\u001b[38;5;241m.\u001b[39mUSED_NAMES\n",
      "Cell \u001b[0;32mIn[3], line 5\u001b[0m, in \u001b[0;36mrandom_program\u001b[0;34m()\u001b[0m\n\u001b[1;32m      3\u001b[0m \u001b[38;5;28;01mdef\u001b[39;00m \u001b[38;5;21mrandom_program\u001b[39m():\n\u001b[1;32m      4\u001b[0m     \u001b[38;5;28mprint\u001b[39m(\u001b[38;5;124m'\u001b[39m\u001b[38;5;124mCALL 1: \u001b[39m\u001b[38;5;124m'\u001b[39m, tracer\u001b[38;5;241m.\u001b[39msample(\u001b[38;5;124m'\u001b[39m\u001b[38;5;124mpos 1\u001b[39m\u001b[38;5;124m'\u001b[39m, Dist(random\u001b[38;5;241m.\u001b[39mrandom)))\n\u001b[0;32m----> 5\u001b[0m     \u001b[38;5;28mprint\u001b[39m(\u001b[38;5;124m'\u001b[39m\u001b[38;5;124mCALL 2: \u001b[39m\u001b[38;5;124m'\u001b[39m, tracer\u001b[38;5;241m.\u001b[39msample(\u001b[38;5;124m'\u001b[39m\u001b[38;5;124mpos 1\u001b[39m\u001b[38;5;124m'\u001b[39m, Dist(random\u001b[38;5;241m.\u001b[39mchoice, [\u001b[38;5;124m'\u001b[39m\u001b[38;5;124ma\u001b[39m\u001b[38;5;124m'\u001b[39m,\u001b[38;5;124m'\u001b[39m\u001b[38;5;124mb\u001b[39m\u001b[38;5;124m'\u001b[39m,\u001b[38;5;124m'\u001b[39m\u001b[38;5;124mc\u001b[39m\u001b[38;5;124m'\u001b[39m])))\n\u001b[1;32m      6\u001b[0m     \u001b[38;5;28mprint\u001b[39m(\u001b[38;5;124m'\u001b[39m\u001b[38;5;124mCALL 3: \u001b[39m\u001b[38;5;124m'\u001b[39m, tracer\u001b[38;5;241m.\u001b[39msample(\u001b[38;5;124m'\u001b[39m\u001b[38;5;124mpos 3\u001b[39m\u001b[38;5;124m'\u001b[39m, Dist(random\u001b[38;5;241m.\u001b[39mrandint, \u001b[38;5;241m1\u001b[39m, \u001b[38;5;241m10\u001b[39m)))\n",
      "File \u001b[0;32m~/Library/CloudStorage/OneDrive-NationalUniversityofIreland,Galway/PTO/PTO-2024d/pto/core/base/tracer.py:17\u001b[0m, in \u001b[0;36mTracer.sample\u001b[0;34m(self, name, dist)\u001b[0m\n\u001b[1;32m     14\u001b[0m     dist\u001b[38;5;241m.\u001b[39msample()\n\u001b[1;32m     15\u001b[0m     \u001b[38;5;28;01mreturn\u001b[39;00m dist\u001b[38;5;241m.\u001b[39mval\n\u001b[0;32m---> 17\u001b[0m \u001b[38;5;28;01massert\u001b[39;00m name \u001b[38;5;129;01mnot\u001b[39;00m \u001b[38;5;129;01min\u001b[39;00m \u001b[38;5;28mself\u001b[39m\u001b[38;5;241m.\u001b[39mUSED_NAMES, \u001b[38;5;124mf\u001b[39m\u001b[38;5;124m\"\u001b[39m\u001b[38;5;124mPTO ERROR: NAME \u001b[39m\u001b[38;5;124m'\u001b[39m\u001b[38;5;132;01m{\u001b[39;00mname\u001b[38;5;132;01m}\u001b[39;00m\u001b[38;5;124m'\u001b[39m\u001b[38;5;124m IN TRACE NOT UNIQUE\u001b[39m\u001b[38;5;124m\"\u001b[39m\n\u001b[1;32m     19\u001b[0m \u001b[38;5;28;01mif\u001b[39;00m name \u001b[38;5;129;01mnot\u001b[39;00m \u001b[38;5;129;01min\u001b[39;00m \u001b[38;5;28mself\u001b[39m\u001b[38;5;241m.\u001b[39mTRACE:\n\u001b[1;32m     20\u001b[0m     dist\u001b[38;5;241m.\u001b[39msample()\n",
      "\u001b[0;31mAssertionError\u001b[0m: PTO ERROR: NAME 'pos 1' IN TRACE NOT UNIQUE"
     ]
    }
   ],
   "source": [
    "''' This shows that PTO raises an exception when the generator tries to use the same name for more than one trace entry, which is not allowed. '''\n",
    "\n",
    "def random_program():\n",
    "    print('CALL 1: ', tracer.sample('pos 1', Dist(random.random)))\n",
    "    print('CALL 2: ', tracer.sample('pos 1', Dist(random.choice, ['a','b','c'])))\n",
    "    print('CALL 3: ', tracer.sample('pos 3', Dist(random.randint, 1, 10)))\n",
    "\n",
    "# run program without tracing (no check on names)    \n",
    "print(tracer.TRACE,'\\n')    \n",
    "random_program()\n",
    "\n",
    "# run program with tracing (check on names)    \n",
    "print(tracer.TRACE,'\\n')\n",
    "tracer.play(random_program, tracer.TRACE)"
   ]
  },
  {
   "cell_type": "code",
   "execution_count": 4,
   "id": "00fdc6c3",
   "metadata": {},
   "outputs": [],
   "source": [
    "# fix tracer after the exception\n",
    "tracer.TRACER_ACTIVE = False"
   ]
  },
  {
   "cell_type": "code",
   "execution_count": null,
   "id": "55d62580",
   "metadata": {},
   "outputs": [],
   "source": []
  }
 ],
 "metadata": {
  "kernelspec": {
   "display_name": "Python 3 (ipykernel)",
   "language": "python",
   "name": "python3"
  },
  "language_info": {
   "codemirror_mode": {
    "name": "ipython",
    "version": 3
   },
   "file_extension": ".py",
   "mimetype": "text/x-python",
   "name": "python",
   "nbconvert_exporter": "python",
   "pygments_lexer": "ipython3",
   "version": "3.11.7"
  }
 },
 "nbformat": 4,
 "nbformat_minor": 5
}
