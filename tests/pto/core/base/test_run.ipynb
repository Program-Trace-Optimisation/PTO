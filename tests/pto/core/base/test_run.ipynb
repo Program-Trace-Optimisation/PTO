{
 "cells": [
  {
   "cell_type": "markdown",
   "id": "930b0de1",
   "metadata": {},
   "source": [
    "# Tests for run "
   ]
  },
  {
   "cell_type": "code",
   "execution_count": 1,
   "id": "ad461b75",
   "metadata": {},
   "outputs": [],
   "source": [
    "import random\n",
    "from pto.core.base import run, Dist, tracer\n"
   ]
  },
  {
   "cell_type": "code",
   "execution_count": 2,
   "id": "9d02d1eb",
   "metadata": {},
   "outputs": [],
   "source": [
    "def random_program():\n",
    "    return([tracer.sample('pos 1', Dist(random.random)),\n",
    "            tracer.sample('pos 2', Dist(random.choice, ['a','b','c'])),\n",
    "            tracer.sample('pos 3', Dist(random.randint, 1, 10))])\n",
    "\n",
    "def fitness(sol): return sol[0]"
   ]
  },
  {
   "cell_type": "code",
   "execution_count": 3,
   "id": "92e88884",
   "metadata": {},
   "outputs": [
    {
     "data": {
      "text/plain": [
       "(Sol(pheno=[0.9920706870687988, 'c', 6], geno={'pos 1': Dist(random, (),  val=0.9920706870687988), 'pos 2': Dist(choice, (['a', 'b', 'c'],),  val=c), 'pos 3': Dist(randint, (1, 10),  val=6)}),\n",
       " 0.9920706870687988)"
      ]
     },
     "execution_count": 3,
     "metadata": {},
     "output_type": "execute_result"
    }
   ],
   "source": [
    "run(random_program, fitness)"
   ]
  },
  {
   "cell_type": "code",
   "execution_count": 4,
   "id": "d93a4f48",
   "metadata": {},
   "outputs": [
    {
     "data": {
      "text/plain": [
       "<bound method CoreRunner.run of <class 'pto.core.base.run.CoreRunner'>>"
      ]
     },
     "execution_count": 4,
     "metadata": {},
     "output_type": "execute_result"
    }
   ],
   "source": [
    "run"
   ]
  },
  {
   "cell_type": "code",
   "execution_count": null,
   "id": "098980f5",
   "metadata": {},
   "outputs": [],
   "source": []
  }
 ],
 "metadata": {
  "kernelspec": {
   "display_name": "base",
   "language": "python",
   "name": "python3"
  },
  "language_info": {
   "codemirror_mode": {
    "name": "ipython",
    "version": 3
   },
   "file_extension": ".py",
   "mimetype": "text/x-python",
   "name": "python",
   "nbconvert_exporter": "python",
   "pygments_lexer": "ipython3",
   "version": "3.11.7"
  }
 },
 "nbformat": 4,
 "nbformat_minor": 5
}
