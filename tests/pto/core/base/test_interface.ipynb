{
 "cells": [
  {
   "cell_type": "markdown",
   "id": "930b0de1",
   "metadata": {},
   "source": [
    "# Tests for interface "
   ]
  },
  {
   "cell_type": "code",
   "execution_count": 1,
   "id": "ad461b75",
   "metadata": {},
   "outputs": [],
   "source": [
    "from pto.core.base import *"
   ]
  },
  {
   "cell_type": "code",
   "execution_count": 2,
   "id": "9d02d1eb",
   "metadata": {},
   "outputs": [
    {
     "data": {
      "text/plain": [
       "(<function pto.core.base.check_immutable.check_immutable(fun)>,\n",
       " pto.core.base.tracer.Tracer,\n",
       " <pto.core.base.tracer.Tracer at 0x1052038d0>,\n",
       " pto.core.base.distribution.Dist,\n",
       " pto.core.base.trace_operators.Op,\n",
       " pto.core.base.run.CoreRunner,\n",
       " <bound method CoreRunner.run of <class 'pto.core.base.run.CoreRunner'>>)"
      ]
     },
     "execution_count": 2,
     "metadata": {},
     "output_type": "execute_result"
    }
   ],
   "source": [
    "check_immutable, Tracer, tracer, Dist, Op, CoreRunner, run"
   ]
  },
  {
   "cell_type": "code",
   "execution_count": null,
   "id": "2faa96f3",
   "metadata": {},
   "outputs": [],
   "source": []
  }
 ],
 "metadata": {
  "kernelspec": {
   "display_name": "Python 3 (ipykernel)",
   "language": "python",
   "name": "python3"
  },
  "language_info": {
   "codemirror_mode": {
    "name": "ipython",
    "version": 3
   },
   "file_extension": ".py",
   "mimetype": "text/x-python",
   "name": "python",
   "nbconvert_exporter": "python",
   "pygments_lexer": "ipython3",
   "version": "3.11.7"
  }
 },
 "nbformat": 4,
 "nbformat_minor": 5
}
