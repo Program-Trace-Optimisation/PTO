{
 "cells": [
  {
   "cell_type": "markdown",
   "id": "61ce7a94",
   "metadata": {},
   "source": [
    "   # Tests for check_immutable"
   ]
  },
  {
   "cell_type": "code",
   "execution_count": 2,
   "id": "9b98c1f2",
   "metadata": {},
   "outputs": [],
   "source": [
    "from copy import copy\n",
    "from pto.core.base import check_immutable\n"
   ]
  },
  {
   "cell_type": "code",
   "execution_count": 3,
   "id": "fd72fb10",
   "metadata": {},
   "outputs": [],
   "source": [
    "# test check_immutatble\n",
    "\n",
    "@check_immutable\n",
    "def mut_fun(num, lis):\n",
    "    lis[0]=num\n",
    "    return lis\n",
    "\n",
    "@check_immutable\n",
    "def imm_fun(num, lis):\n",
    "    lis_out = copy(lis)\n",
    "    lis_out[0]=num\n",
    "    return lis_out\n",
    "    "
   ]
  },
  {
   "cell_type": "code",
   "execution_count": 4,
   "id": "c188e8fc",
   "metadata": {},
   "outputs": [
    {
     "ename": "AssertionError",
     "evalue": "mut_fun has modified inputs!",
     "output_type": "error",
     "traceback": [
      "\u001b[0;31m---------------------------------------------------------------------------\u001b[0m",
      "\u001b[0;31mAssertionError\u001b[0m                            Traceback (most recent call last)",
      "Cell \u001b[0;32mIn[4], line 1\u001b[0m\n\u001b[0;32m----> 1\u001b[0m mut_fun(\u001b[38;5;241m2\u001b[39m,[\u001b[38;5;241m1\u001b[39m,\u001b[38;5;241m2\u001b[39m,\u001b[38;5;241m3\u001b[39m])\n",
      "File \u001b[0;32m~/Library/CloudStorage/OneDrive-NationalUniversityofIreland,Galway/PTO/PTO-2024d/pto/core/base/check_immutable.py:21\u001b[0m, in \u001b[0;36mcheck_immutable.<locals>.checked_fun\u001b[0;34m(*args)\u001b[0m\n\u001b[1;32m     18\u001b[0m after_args \u001b[38;5;241m=\u001b[39m \u001b[38;5;28mrepr\u001b[39m(args)\n\u001b[1;32m     19\u001b[0m \u001b[38;5;66;03m#print(after_args)\u001b[39;00m\n\u001b[0;32m---> 21\u001b[0m \u001b[38;5;28;01massert\u001b[39;00m before_args \u001b[38;5;241m==\u001b[39m after_args, \u001b[38;5;124m\"\u001b[39m\u001b[38;5;132;01m%s\u001b[39;00m\u001b[38;5;124m has modified inputs!\u001b[39m\u001b[38;5;124m\"\u001b[39m \u001b[38;5;241m%\u001b[39m fun\u001b[38;5;241m.\u001b[39m\u001b[38;5;18m__name__\u001b[39m\n\u001b[1;32m     23\u001b[0m \u001b[38;5;28;01mreturn\u001b[39;00m out\n",
      "\u001b[0;31mAssertionError\u001b[0m: mut_fun has modified inputs!"
     ]
    }
   ],
   "source": [
    "mut_fun(2,[1,2,3]) # should fail"
   ]
  },
  {
   "cell_type": "code",
   "execution_count": 5,
   "id": "05cf70a9",
   "metadata": {},
   "outputs": [
    {
     "data": {
      "text/plain": [
       "[2, 2, 3]"
      ]
     },
     "execution_count": 5,
     "metadata": {},
     "output_type": "execute_result"
    }
   ],
   "source": [
    "imm_fun(2,[1,2,3]) # should not fail"
   ]
  },
  {
   "cell_type": "code",
   "execution_count": null,
   "id": "0bdb6120",
   "metadata": {},
   "outputs": [],
   "source": []
  }
 ],
 "metadata": {
  "kernelspec": {
   "display_name": "Python 3 (ipykernel)",
   "language": "python",
   "name": "python3"
  },
  "language_info": {
   "codemirror_mode": {
    "name": "ipython",
    "version": 3
   },
   "file_extension": ".py",
   "mimetype": "text/x-python",
   "name": "python",
   "nbconvert_exporter": "python",
   "pygments_lexer": "ipython3",
   "version": "3.11.7"
  }
 },
 "nbformat": 4,
 "nbformat_minor": 5
}
