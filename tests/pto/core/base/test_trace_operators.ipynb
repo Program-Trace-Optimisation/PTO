{
 "cells": [
  {
   "cell_type": "markdown",
   "id": "97700643",
   "metadata": {},
   "source": [
    "# Tests for trace_operators"
   ]
  },
  {
   "cell_type": "code",
   "execution_count": 1,
   "id": "29cfb7ce",
   "metadata": {},
   "outputs": [],
   "source": [
    "import random\n",
    "from pto.core.base import Op, Dist, tracer\n"
   ]
  },
  {
   "cell_type": "code",
   "execution_count": 2,
   "id": "5e3f21fa",
   "metadata": {},
   "outputs": [],
   "source": [
    "\n",
    "def random_program():\n",
    "    return([tracer.sample('pos 1', Dist(random.random)),\n",
    "            tracer.sample('pos 2', Dist(random.choice, ['a','b','c'])),\n",
    "            tracer.sample('pos 3', Dist(random.randint, 1, 10))])\n",
    "\n",
    "def fitness(sol): return sol[0]"
   ]
  },
  {
   "cell_type": "code",
   "execution_count": 3,
   "id": "11ecd256",
   "metadata": {},
   "outputs": [
    {
     "name": "stdout",
     "output_type": "stream",
     "text": [
      "[0.2024606295925796, 'b', 3] 0.2024606295925796\n"
     ]
    }
   ],
   "source": [
    "sol = random_program()\n",
    "fit = fitness(sol)\n",
    "print(sol, fit)"
   ]
  },
  {
   "cell_type": "code",
   "execution_count": 4,
   "id": "64efb085",
   "metadata": {},
   "outputs": [
    {
     "data": {
      "text/plain": [
       "\"Op('random_program', 'fitness', 'mutate_point_ind', 'crossover_uniform_ind')\""
      ]
     },
     "execution_count": 4,
     "metadata": {},
     "output_type": "execute_result"
    }
   ],
   "source": [
    "# test __init__ \n",
    "\n",
    "op = Op(random_program, fitness)\n",
    "#op.bind(random_program, fitness)\n",
    "repr(op)"
   ]
  },
  {
   "cell_type": "code",
   "execution_count": 5,
   "id": "06de5c9f",
   "metadata": {},
   "outputs": [
    {
     "data": {
      "text/plain": [
       "Sol(pheno=[0.04155542836401005, 'a', 3], geno={'pos 1': Dist(random, (),  val=0.04155542836401005), 'pos 2': Dist(choice, (['a', 'b', 'c'],),  val=a), 'pos 3': Dist(randint, (1, 10),  val=3)})"
      ]
     },
     "execution_count": 5,
     "metadata": {},
     "output_type": "execute_result"
    }
   ],
   "source": [
    "# test create_ind\n",
    "\n",
    "sol = op.create_ind()\n",
    "sol"
   ]
  },
  {
   "cell_type": "code",
   "execution_count": 6,
   "id": "3cf13abb",
   "metadata": {},
   "outputs": [
    {
     "data": {
      "text/plain": [
       "0.04155542836401005"
      ]
     },
     "execution_count": 6,
     "metadata": {},
     "output_type": "execute_result"
    }
   ],
   "source": [
    "# test evaluate_ind\n",
    "\n",
    "fit = op.evaluate_ind(sol)\n",
    "fit"
   ]
  },
  {
   "cell_type": "code",
   "execution_count": 7,
   "id": "1044878b",
   "metadata": {},
   "outputs": [
    {
     "name": "stdout",
     "output_type": "stream",
     "text": [
      "original: {'pos 1': Dist(random, (),  val=0.04155542836401005), 'pos 2': Dist(choice, (['a', 'b', 'c'],),  val=a), 'pos 3': Dist(randint, (1, 10),  val=3)}\n",
      "changed: {'pos 1': Dist(randint, (1, 3),  val=2), 'pos 2': Dist(choice, (['a', 'b', 'c'],),  val=a), 'pos 3': Dist(randint, (1, 10),  val=3)}\n",
      "repair:  ('randint', (1, 3)) ('random', ())\n",
      "fixed: {'pos 1': Dist(random, (),  val=0.08642946885246428), 'pos 2': Dist(choice, (['a', 'b', 'c'],),  val=a), 'pos 3': Dist(randint, (1, 10),  val=3)}\n"
     ]
    }
   ],
   "source": [
    "# test fix_ind\n",
    "\n",
    "print('original:', sol.geno)\n",
    "sol.geno['pos 1'] = Dist(random.randint, 1, 3, val = 2) # unfeasible change incompatible with generator\n",
    "print('changed:', sol.geno)\n",
    "op.fix_ind(sol.geno)\n",
    "print('fixed:', sol.geno) "
   ]
  },
  {
   "cell_type": "code",
   "execution_count": 8,
   "id": "6040b230",
   "metadata": {},
   "outputs": [
    {
     "name": "stdout",
     "output_type": "stream",
     "text": [
      "parent before mutation: {'pos 1': Dist(random, (),  val=0.08642946885246428), 'pos 2': Dist(choice, (['a', 'b', 'c'],),  val=a), 'pos 3': Dist(randint, (1, 10),  val=3)} \n",
      "\n",
      "parent after mutation: {'pos 1': Dist(random, (),  val=0.08642946885246428), 'pos 2': Dist(choice, (['a', 'b', 'c'],),  val=a), 'pos 3': Dist(randint, (1, 10),  val=3)} \n",
      "\n",
      "offspring: {'pos 1': Dist(random, (),  val=0.08642946885246428), 'pos 2': Dist(choice, (['a', 'b', 'c'],),  val=a), 'pos 3': Dist(randint, (1, 10),  val=3)} \n",
      "\n"
     ]
    }
   ],
   "source": [
    "# test mutate_position_wise_ind\n",
    "print('parent before mutation:', sol.geno, '\\n')\n",
    "before = str(sol.geno)\n",
    "off = op.mutate_position_wise_ind(sol)\n",
    "print('parent after mutation:', sol.geno, '\\n') \n",
    "after = str(sol.geno)\n",
    "assert before == after\n",
    "print('offspring:', off.geno, '\\n') # expected one change on average"
   ]
  },
  {
   "cell_type": "code",
   "execution_count": 9,
   "id": "bb888e2b",
   "metadata": {},
   "outputs": [
    {
     "name": "stdout",
     "output_type": "stream",
     "text": [
      "parent before mutation: {'pos 1': Dist(random, (),  val=0.08642946885246428), 'pos 2': Dist(choice, (['a', 'b', 'c'],),  val=a), 'pos 3': Dist(randint, (1, 10),  val=3)} \n",
      "\n",
      "{'pos 1': Dist(random, (),  val=0.3101352525664377), 'pos 2': Dist(choice, (['a', 'b', 'c'],),  val=a), 'pos 3': Dist(randint, (1, 10),  val=3)}\n",
      "parent after mutation: {'pos 1': Dist(random, (),  val=0.08642946885246428), 'pos 2': Dist(choice, (['a', 'b', 'c'],),  val=a), 'pos 3': Dist(randint, (1, 10),  val=3)} \n",
      "\n",
      "offspring: {'pos 1': Dist(random, (),  val=0.3101352525664377), 'pos 2': Dist(choice, (['a', 'b', 'c'],),  val=a), 'pos 3': Dist(randint, (1, 10),  val=3)} \n",
      "\n"
     ]
    }
   ],
   "source": [
    "# test mutate_point_ind\n",
    "print('parent before mutation:', sol.geno, '\\n')\n",
    "before = str(sol.geno)\n",
    "off = op.mutate_point_ind(sol)\n",
    "print('parent after mutation:', sol.geno, '\\n') \n",
    "after = str(sol.geno)\n",
    "assert before == after\n",
    "print('offspring:', off.geno, '\\n') # expected one change on average"
   ]
  },
  {
   "cell_type": "code",
   "execution_count": 10,
   "id": "5f303e92",
   "metadata": {},
   "outputs": [
    {
     "name": "stdout",
     "output_type": "stream",
     "text": [
      "parent before mutation: {'pos 1': Dist(random, (),  val=0.08642946885246428), 'pos 2': Dist(choice, (['a', 'b', 'c'],),  val=a), 'pos 3': Dist(randint, (1, 10),  val=3)} \n",
      "\n",
      "parent after mutation: {'pos 1': Dist(random, (),  val=0.08642946885246428), 'pos 2': Dist(choice, (['a', 'b', 'c'],),  val=a), 'pos 3': Dist(randint, (1, 10),  val=3)} \n",
      "\n",
      "offspring: {'pos 1': Dist(random, (),  val=0.5310208655935545), 'pos 2': Dist(choice, (['a', 'b', 'c'],),  val=c), 'pos 3': Dist(randint, (1, 10),  val=1)} \n",
      "\n"
     ]
    }
   ],
   "source": [
    "# test mutate_random_ind\n",
    "print('parent before mutation:', sol.geno, '\\n')\n",
    "before = str(sol.geno)\n",
    "off = off = op.mutate_random_ind(sol)\n",
    "print('parent after mutation:', sol.geno, '\\n') \n",
    "after = str(sol.geno)\n",
    "assert before == after\n",
    "print('offspring:', off.geno, '\\n') # expected one change on average"
   ]
  },
  {
   "cell_type": "code",
   "execution_count": 11,
   "id": "b5cd49a5",
   "metadata": {},
   "outputs": [],
   "source": [
    "sol1 = op.create_ind()\n",
    "sol2 = op.create_ind()"
   ]
  },
  {
   "cell_type": "code",
   "execution_count": 12,
   "id": "d0dad06a",
   "metadata": {},
   "outputs": [
    {
     "name": "stdout",
     "output_type": "stream",
     "text": [
      "[0.5426016436873111, 'a', 7] \n",
      "\n",
      "[0.6406796989486875, 'c', 5] \n",
      "\n",
      "[0.5426016436873111, 'a', 7] \n",
      "\n",
      "[0.6406796989486875, 'c', 5] \n",
      "\n",
      "[0.5426016436873111, 'a', 7] \n",
      "\n"
     ]
    }
   ],
   "source": [
    "# test crossover_one_point_ind\n",
    "\n",
    "print(sol1.pheno, '\\n')\n",
    "print(sol2.pheno, '\\n')\n",
    "off = op.crossover_one_point_ind(sol1, sol2)\n",
    "print(op.fix_ind(sol1.geno).pheno, '\\n') # assert: sol1 before == sol1 after\n",
    "print(op.fix_ind(sol2.geno).pheno, '\\n') # assert: sol2 before == sol2 after\n",
    "print(off.pheno, '\\n') # expected: initial segment of off == sol1, rest of off == sol2"
   ]
  },
  {
   "cell_type": "code",
   "execution_count": 13,
   "id": "ef05ebd6",
   "metadata": {},
   "outputs": [
    {
     "name": "stdout",
     "output_type": "stream",
     "text": [
      "[0.5426016436873111, 'a', 7] \n",
      "\n",
      "[0.6406796989486875, 'c', 5] \n",
      "\n",
      "[0.5426016436873111, 'a', 7] \n",
      "\n",
      "[0.6406796989486875, 'c', 5] \n",
      "\n",
      "[0.6406796989486875, 'c', 5] \n",
      "\n"
     ]
    }
   ],
   "source": [
    "# test crossover_uniform_ind\n",
    "\n",
    "print(sol1.pheno, '\\n')\n",
    "print(sol2.pheno, '\\n')\n",
    "off = op.crossover_uniform_ind(sol1, sol2)\n",
    "print(op.fix_ind(sol1.geno).pheno, '\\n') # assert: sol1 before == sol1 after\n",
    "print(op.fix_ind(sol2.geno).pheno, '\\n') # assert: sol2 before == sol2 after\n",
    "print(off.pheno, '\\n') # expected: mix of sol1 and sol2"
   ]
  },
  {
   "cell_type": "code",
   "execution_count": null,
   "id": "34c1fa96",
   "metadata": {},
   "outputs": [],
   "source": []
  }
 ],
 "metadata": {
  "kernelspec": {
   "display_name": "Python 3 (ipykernel)",
   "language": "python",
   "name": "python3"
  },
  "language_info": {
   "codemirror_mode": {
    "name": "ipython",
    "version": 3
   },
   "file_extension": ".py",
   "mimetype": "text/x-python",
   "name": "python",
   "nbconvert_exporter": "python",
   "pygments_lexer": "ipython3",
   "version": "3.11.7"
  }
 },
 "nbformat": 4,
 "nbformat_minor": 5
}
