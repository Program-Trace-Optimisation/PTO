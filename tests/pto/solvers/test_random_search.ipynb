{
 "cells": [
  {
   "cell_type": "markdown",
   "id": "169eb27f",
   "metadata": {},
   "source": [
    "# Test for random_search"
   ]
  },
  {
   "cell_type": "code",
   "execution_count": 1,
   "id": "804db992",
   "metadata": {},
   "outputs": [],
   "source": [
    "from pto.solvers import RS\n",
    "\n",
    "from pto.core.base import Op, tracer, Dist\n",
    "\n",
    "import random"
   ]
  },
  {
   "cell_type": "code",
   "execution_count": 2,
   "id": "8a689fd8",
   "metadata": {},
   "outputs": [],
   "source": [
    "\n",
    "def random_program():\n",
    "    return([tracer.sample('pos 1', Dist(random.random)),\n",
    "            tracer.sample('pos 2', Dist(random.choice, ['a','b','c'])),\n",
    "            tracer.sample('pos 3', Dist(random.randint, 1, 10))])\n",
    "\n",
    "def fitness(sol): return sol[0]"
   ]
  },
  {
   "cell_type": "code",
   "execution_count": 3,
   "id": "54da2999",
   "metadata": {},
   "outputs": [],
   "source": [
    "op = Op(generator=random_program, fitness=fitness)"
   ]
  },
  {
   "cell_type": "code",
   "execution_count": 4,
   "id": "8dc9cd48",
   "metadata": {},
   "outputs": [],
   "source": [
    "# instantiate random search\n",
    "rs=RS(op)"
   ]
  },
  {
   "cell_type": "code",
   "execution_count": 5,
   "id": "f7acef8f",
   "metadata": {},
   "outputs": [
    {
     "data": {
      "text/plain": [
       "{'op': Op('random_program', 'fitness', 'mutate_random_ind', 'crossover_uniform_ind'),\n",
       " 'better': <function max>,\n",
       " 'callback': None,\n",
       " 'number_generation': 1000,\n",
       " 'mutation': 'mutate_random_ind',\n",
       " 'verbose': False}"
      ]
     },
     "execution_count": 5,
     "metadata": {},
     "output_type": "execute_result"
    }
   ],
   "source": [
    "# random search current parameters\n",
    "rs.__dict__"
   ]
  },
  {
   "cell_type": "code",
   "execution_count": 6,
   "id": "b68aa4bd",
   "metadata": {},
   "outputs": [],
   "source": [
    "# execute search\n",
    "res=rs()"
   ]
  },
  {
   "cell_type": "code",
   "execution_count": 7,
   "id": "b3349c47",
   "metadata": {},
   "outputs": [
    {
     "name": "stdout",
     "output_type": "stream",
     "text": [
      "sol:     [0.9984802299498028, 'a', 10]\n",
      "trace:   {'pos 1': Dist(random, (),  val=0.9984802299498028), 'pos 2': Dist(choice, (['a', 'b', 'c'],),  val=a), 'pos 3': Dist(randint, (1, 10),  val=10)}\n",
      "fitness: 0.9984802299498028\n"
     ]
    }
   ],
   "source": [
    "# result\n",
    "print('sol:    ', res[0].pheno)\n",
    "print('trace:  ', res[0].geno)\n",
    "print('fitness:', res[1])"
   ]
  },
  {
   "cell_type": "code",
   "execution_count": null,
   "id": "3b147c88",
   "metadata": {},
   "outputs": [],
   "source": []
  },
  {
   "cell_type": "code",
   "execution_count": null,
   "id": "8e31a0ab-8eb9-4670-9fbb-24e76995f2c8",
   "metadata": {},
   "outputs": [],
   "source": []
  }
 ],
 "metadata": {
  "kernelspec": {
   "display_name": "Python 3 (ipykernel)",
   "language": "python",
   "name": "python3"
  },
  "language_info": {
   "codemirror_mode": {
    "name": "ipython",
    "version": 3
   },
   "file_extension": ".py",
   "mimetype": "text/x-python",
   "name": "python",
   "nbconvert_exporter": "python",
   "pygments_lexer": "ipython3",
   "version": "3.11.7"
  }
 },
 "nbformat": 4,
 "nbformat_minor": 5
}
