{
 "cells": [
  {
   "cell_type": "markdown",
   "id": "644d9d38-56a6-4b94-b29c-3f8308c0030f",
   "metadata": {},
   "source": [
    "# Tests for interface"
   ]
  },
  {
   "cell_type": "code",
   "execution_count": 1,
   "id": "6aa6f025",
   "metadata": {},
   "outputs": [],
   "source": [
    "from pto.solvers import *\n"
   ]
  },
  {
   "cell_type": "code",
   "execution_count": 2,
   "id": "e7bb79cf",
   "metadata": {},
   "outputs": [
    {
     "data": {
      "text/plain": [
       "(pto.solvers.hill_climber.hill_climber,\n",
       " <function pto.solvers.random_search.random_search(op, **kwargs)>,\n",
       " pto.solvers.genetic_algorithm.genetic_algorithm,\n",
       " pto.solvers.particle_swarm_optimisation.particle_swarm_optimisation)"
      ]
     },
     "execution_count": 2,
     "metadata": {},
     "output_type": "execute_result"
    }
   ],
   "source": [
    "hill_climber, random_search, genetic_algorithm, particle_swarm_optimisation"
   ]
  },
  {
   "cell_type": "code",
   "execution_count": null,
   "id": "f39bec22",
   "metadata": {},
   "outputs": [],
   "source": []
  }
 ],
 "metadata": {
  "kernelspec": {
   "display_name": "base",
   "language": "python",
   "name": "python3"
  },
  "language_info": {
   "codemirror_mode": {
    "name": "ipython",
    "version": 3
   },
   "file_extension": ".py",
   "mimetype": "text/x-python",
   "name": "python",
   "nbconvert_exporter": "python",
   "pygments_lexer": "ipython3",
   "version": "3.11.7"
  }
 },
 "nbformat": 4,
 "nbformat_minor": 5
}
