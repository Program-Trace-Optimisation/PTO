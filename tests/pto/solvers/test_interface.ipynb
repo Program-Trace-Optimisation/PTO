{
 "cells": [
  {
   "cell_type": "markdown",
   "id": "644d9d38-56a6-4b94-b29c-3f8308c0030f",
   "metadata": {},
   "source": [
    "# Tests for interface"
   ]
  },
  {
   "cell_type": "code",
   "execution_count": 2,
   "id": "6aa6f025",
   "metadata": {},
   "outputs": [],
   "source": [
    "from pto.solvers import *\n"
   ]
  },
  {
   "cell_type": "code",
   "execution_count": 3,
   "id": "e7bb79cf",
   "metadata": {},
   "outputs": [
    {
     "data": {
      "text/plain": [
       "(pto.solvers.hill_climber.HC,\n",
       " <function pto.solvers.random_search.RS(op, **kwargs)>,\n",
       " pto.solvers.genetic_algorithm.GA)"
      ]
     },
     "execution_count": 3,
     "metadata": {},
     "output_type": "execute_result"
    }
   ],
   "source": [
    "HC, RS, GA"
   ]
  },
  {
   "cell_type": "code",
   "execution_count": null,
   "id": "f39bec22",
   "metadata": {},
   "outputs": [],
   "source": []
  }
 ],
 "metadata": {
  "kernelspec": {
   "display_name": "Python 3 (ipykernel)",
   "language": "python",
   "name": "python3"
  },
  "language_info": {
   "codemirror_mode": {
    "name": "ipython",
    "version": 3
   },
   "file_extension": ".py",
   "mimetype": "text/x-python",
   "name": "python",
   "nbconvert_exporter": "python",
   "pygments_lexer": "ipython3",
   "version": "3.11.7"
  }
 },
 "nbformat": 4,
 "nbformat_minor": 5
}
