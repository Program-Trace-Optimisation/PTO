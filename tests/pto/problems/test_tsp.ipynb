{
 "cells": [
  {
   "cell_type": "markdown",
   "id": "9489c293",
   "metadata": {},
   "source": [
    "# Tests for TSP with autonames"
   ]
  },
  {
   "cell_type": "code",
   "execution_count": 1,
   "id": "ef6455de-1417-443b-9735-d1d7edaa0c59",
   "metadata": {},
   "outputs": [],
   "source": [
    "from pto import run, rnd\n",
    "from pto.problems.tsp import generator, fitness, N, make_problem_data, better"
   ]
  },
  {
   "cell_type": "code",
   "execution_count": 2,
   "id": "d89dd0bc",
   "metadata": {},
   "outputs": [
    {
     "data": {
      "text/plain": [
       "[13, 5, 11, 9, 2, 7, 14, 6, 4, 3, 12, 0, 10, 8, 1]"
      ]
     },
     "execution_count": 2,
     "metadata": {},
     "output_type": "execute_result"
    }
   ],
   "source": [
    "sol = generator(N)\n",
    "sol"
   ]
  },
  {
   "cell_type": "code",
   "execution_count": 3,
   "id": "adeb2100",
   "metadata": {},
   "outputs": [],
   "source": [
    "dist = make_problem_data(N)"
   ]
  },
  {
   "cell_type": "code",
   "execution_count": 4,
   "id": "d975ba51",
   "metadata": {},
   "outputs": [
    {
     "data": {
      "text/plain": [
       "7.451200345302035"
      ]
     },
     "execution_count": 4,
     "metadata": {},
     "output_type": "execute_result"
    }
   ],
   "source": [
    "fitness(sol, dist)"
   ]
  },
  {
   "cell_type": "code",
   "execution_count": 5,
   "id": "5975d4eb",
   "metadata": {},
   "outputs": [
    {
     "name": "stdout",
     "output_type": "stream",
     "text": [
      "Solution [6, 13, 5, 2, 0, 14, 10, 11, 8, 12, 9, 4, 3, 1, 7]\n",
      "Fitness 4.2139293564441\n"
     ]
    }
   ],
   "source": [
    "(pheno, geno), fx = run(generator, fitness, gen_args=(N,), fit_args=(dist,), better=better)\n",
    "print(f'Solution {pheno}')\n",
    "print(f'Fitness {fx}')"
   ]
  }
 ],
 "metadata": {
  "kernelspec": {
   "display_name": "base",
   "language": "python",
   "name": "python3"
  },
  "language_info": {
   "codemirror_mode": {
    "name": "ipython",
    "version": 3
   },
   "file_extension": ".py",
   "mimetype": "text/x-python",
   "name": "python",
   "nbconvert_exporter": "python",
   "pygments_lexer": "ipython3",
   "version": "3.11.7"
  }
 },
 "nbformat": 4,
 "nbformat_minor": 5
}
