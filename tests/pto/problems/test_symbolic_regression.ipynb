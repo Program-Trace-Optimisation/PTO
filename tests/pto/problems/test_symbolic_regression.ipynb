{
 "cells": [
  {
   "cell_type": "markdown",
   "id": "f9d84c5c",
   "metadata": {},
   "source": [
    "# Tests for Symbolic Regression with autonames"
   ]
  },
  {
   "cell_type": "code",
   "execution_count": 3,
   "id": "d687e148-d2eb-4443-978b-992f5eefb8af",
   "metadata": {},
   "outputs": [],
   "source": [
    "from pto import run, rnd\n",
    "from pto.problems.symbolic_regression import (\n",
    "    generator, fitness,\n",
    "    n_vars, func_set, term_set, n_vars, make_training_data, better)"
   ]
  },
  {
   "cell_type": "code",
   "execution_count": 4,
   "id": "19536b1a",
   "metadata": {},
   "outputs": [
    {
     "data": {
      "text/plain": [
       "'(not x3)'"
      ]
     },
     "execution_count": 4,
     "metadata": {},
     "output_type": "execute_result"
    }
   ],
   "source": [
    "sol = generator(func_set, term_set)\n",
    "sol"
   ]
  },
  {
   "cell_type": "code",
   "execution_count": 5,
   "id": "415c226c",
   "metadata": {},
   "outputs": [],
   "source": [
    "X_train, y_train = make_training_data(20, n_vars)"
   ]
  },
  {
   "cell_type": "code",
   "execution_count": 6,
   "id": "def531ef",
   "metadata": {},
   "outputs": [
    {
     "data": {
      "text/plain": [
       "6"
      ]
     },
     "execution_count": 6,
     "metadata": {},
     "output_type": "execute_result"
    }
   ],
   "source": [
    "fitness(sol, X_train, y_train)"
   ]
  },
  {
   "cell_type": "code",
   "execution_count": 7,
   "id": "3346fdcf",
   "metadata": {},
   "outputs": [
    {
     "name": "stdout",
     "output_type": "stream",
     "text": [
      "Solution ((x2 or x1) or (not x3))\n",
      "Fitness 0\n"
     ]
    }
   ],
   "source": [
    "(pheno, geno), fx = run(generator, fitness, \n",
    "                            gen_args=(func_set, term_set), \n",
    "                            fit_args=(X_train, y_train), better=better)\n",
    "print(f'Solution {pheno}')\n",
    "print(f'Fitness {fx}')"
   ]
  },
  {
   "cell_type": "code",
   "execution_count": null,
   "id": "dd7631a6",
   "metadata": {},
   "outputs": [],
   "source": []
  }
 ],
 "metadata": {
  "kernelspec": {
   "display_name": "base",
   "language": "python",
   "name": "python3"
  },
  "language_info": {
   "codemirror_mode": {
    "name": "ipython",
    "version": 3
   },
   "file_extension": ".py",
   "mimetype": "text/x-python",
   "name": "python",
   "nbconvert_exporter": "python",
   "pygments_lexer": "ipython3",
   "version": "3.11.7"
  }
 },
 "nbformat": 4,
 "nbformat_minor": 5
}
