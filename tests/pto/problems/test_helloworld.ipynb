{
 "cells": [
  {
   "cell_type": "markdown",
   "id": "1c6597ec",
   "metadata": {},
   "source": [
    "# Tests for helloworld with autonames"
   ]
  },
  {
   "cell_type": "code",
   "execution_count": 1,
   "id": "1e536c89-4566-4831-8e23-0628b574b610",
   "metadata": {},
   "outputs": [],
   "source": [
    "from pto import run, rnd\n",
    "from pto.problems.helloworld import generator, fitness, target, N, alphabet, better"
   ]
  },
  {
   "cell_type": "code",
   "execution_count": 2,
   "id": "81abd077",
   "metadata": {},
   "outputs": [
    {
     "data": {
      "text/plain": [
       "' HJVC DAOAO'"
      ]
     },
     "execution_count": 2,
     "metadata": {},
     "output_type": "execute_result"
    }
   ],
   "source": [
    "sol = generator(N, alphabet)\n",
    "sol"
   ]
  },
  {
   "cell_type": "code",
   "execution_count": 3,
   "id": "3be44db5",
   "metadata": {},
   "outputs": [
    {
     "data": {
      "text/plain": [
       "1"
      ]
     },
     "execution_count": 3,
     "metadata": {},
     "output_type": "execute_result"
    }
   ],
   "source": [
    "fitness(sol, target)"
   ]
  },
  {
   "cell_type": "code",
   "execution_count": 4,
   "id": "d87418cf",
   "metadata": {},
   "outputs": [
    {
     "name": "stdout",
     "output_type": "stream",
     "text": [
      "Solution RELLO WORLD\n",
      "Fitness 10\n"
     ]
    }
   ],
   "source": [
    "(pheno, geno), fx = run(generator, fitness, \n",
    "                        gen_args=(N, alphabet), \n",
    "                        Solver='genetic_algorithm',\n",
    "                        solver_args={'n_generation': 50}, \n",
    "                        fit_args=(target,), \n",
    "                        better=better)\n",
    "print(f'Solution {pheno}')\n",
    "print(f'Fitness {fx}')"
   ]
  },
  {
   "cell_type": "code",
   "execution_count": null,
   "id": "6ecb275a-c4c3-4520-b7f5-48f2d986662d",
   "metadata": {},
   "outputs": [],
   "source": []
  }
 ],
 "metadata": {
  "kernelspec": {
   "display_name": "base",
   "language": "python",
   "name": "python3"
  },
  "language_info": {
   "codemirror_mode": {
    "name": "ipython",
    "version": 3
   },
   "file_extension": ".py",
   "mimetype": "text/x-python",
   "name": "python",
   "nbconvert_exporter": "python",
   "pygments_lexer": "ipython3",
   "version": "3.11.7"
  }
 },
 "nbformat": 4,
 "nbformat_minor": 5
}
