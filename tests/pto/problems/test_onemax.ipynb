{
 "cells": [
  {
   "cell_type": "markdown",
   "id": "e1d7aaf9",
   "metadata": {},
   "source": [
    "# Tests for onemax with autonames"
   ]
  },
  {
   "cell_type": "code",
   "execution_count": 1,
   "id": "14d9c822",
   "metadata": {},
   "outputs": [],
   "source": [
    "from pto import run\n",
    "from pto.problems.onemax import generator, fitness, size, better"
   ]
  },
  {
   "cell_type": "code",
   "execution_count": 2,
   "id": "495cccd6",
   "metadata": {},
   "outputs": [
    {
     "data": {
      "text/plain": [
       "[0, 0, 1, 1, 1, 0, 0, 0, 0, 1]"
      ]
     },
     "execution_count": 2,
     "metadata": {},
     "output_type": "execute_result"
    }
   ],
   "source": [
    "sol = generator(size)\n",
    "sol"
   ]
  },
  {
   "cell_type": "code",
   "execution_count": 3,
   "id": "adaec938",
   "metadata": {},
   "outputs": [
    {
     "data": {
      "text/plain": [
       "4"
      ]
     },
     "execution_count": 3,
     "metadata": {},
     "output_type": "execute_result"
    }
   ],
   "source": [
    "fitness(sol)"
   ]
  },
  {
   "cell_type": "code",
   "execution_count": 4,
   "id": "b49a31cf",
   "metadata": {},
   "outputs": [],
   "source": [
    "(pheno, geno), fx = run(generator, fitness, gen_args=(size,), better=better)"
   ]
  },
  {
   "cell_type": "code",
   "execution_count": null,
   "id": "48e4a673",
   "metadata": {},
   "outputs": [],
   "source": []
  }
 ],
 "metadata": {
  "kernelspec": {
   "display_name": "base",
   "language": "python",
   "name": "python3"
  },
  "language_info": {
   "codemirror_mode": {
    "name": "ipython",
    "version": 3
   },
   "file_extension": ".py",
   "mimetype": "text/x-python",
   "name": "python",
   "nbconvert_exporter": "python",
   "pygments_lexer": "ipython3",
   "version": "3.11.7"
  }
 },
 "nbformat": 4,
 "nbformat_minor": 5
}
