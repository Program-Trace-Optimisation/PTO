{
 "cells": [
  {
   "cell_type": "markdown",
   "id": "c9f29f39",
   "metadata": {},
   "source": [
    "# Tests for Grammatical Evolution with autonames"
   ]
  },
  {
   "cell_type": "code",
   "execution_count": 1,
   "id": "5e14e5ed-9312-42b3-a1db-f78ab963907b",
   "metadata": {},
   "outputs": [],
   "source": [
    "from pto import run, rnd\n",
    "\n",
    "from pto.problems.grammatical_evolution import (\n",
    "    generator, fitness, n_vars, make_training_data, grammar, better)"
   ]
  },
  {
   "cell_type": "code",
   "execution_count": 2,
   "id": "5fd1f001",
   "metadata": {},
   "outputs": [
    {
     "data": {
      "text/plain": [
       "'(1.0+x[0])'"
      ]
     },
     "execution_count": 2,
     "metadata": {},
     "output_type": "execute_result"
    }
   ],
   "source": [
    "sol = generator(grammar)\n",
    "sol"
   ]
  },
  {
   "cell_type": "code",
   "execution_count": 3,
   "id": "10958405",
   "metadata": {},
   "outputs": [],
   "source": [
    "X_train, y_train = make_training_data(20, n_vars)"
   ]
  },
  {
   "cell_type": "code",
   "execution_count": 4,
   "id": "390e4d60",
   "metadata": {},
   "outputs": [
    {
     "data": {
      "text/plain": [
       "138.2777196916038"
      ]
     },
     "execution_count": 4,
     "metadata": {},
     "output_type": "execute_result"
    }
   ],
   "source": [
    "fitness(sol, X_train, y_train)"
   ]
  },
  {
   "cell_type": "code",
   "execution_count": 5,
   "id": "716acefc",
   "metadata": {},
   "outputs": [
    {
     "name": "stdout",
     "output_type": "stream",
     "text": [
      "Solution (((x[1]+(x[2]/(0.3*0.5)))-0.5)+(x[2]*(x[1]+x[2])))\n",
      "Fitness 38.33140344267466\n"
     ]
    }
   ],
   "source": [
    "(pheno, geno), fx = run(generator, fitness, gen_args=(grammar,), fit_args=(X_train, y_train), better=better)\n",
    "print(f'Solution {pheno}')\n",
    "print(f'Fitness {fx}')"
   ]
  },
  {
   "cell_type": "code",
   "execution_count": null,
   "id": "017a2239",
   "metadata": {},
   "outputs": [],
   "source": []
  }
 ],
 "metadata": {
  "kernelspec": {
   "display_name": "base",
   "language": "python",
   "name": "python3"
  },
  "language_info": {
   "codemirror_mode": {
    "name": "ipython",
    "version": 3
   },
   "file_extension": ".py",
   "mimetype": "text/x-python",
   "name": "python",
   "nbconvert_exporter": "python",
   "pygments_lexer": "ipython3",
   "version": "3.11.7"
  }
 },
 "nbformat": 4,
 "nbformat_minor": 5
}
